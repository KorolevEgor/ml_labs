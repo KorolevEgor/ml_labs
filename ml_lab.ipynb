{
 "cells": [
  {
   "cell_type": "markdown",
   "id": "52851953",
   "metadata": {},
   "source": [
    "# Предсказание победителя в онлайн-игре"
   ]
  },
  {
   "cell_type": "markdown",
   "id": "c9d57e8c",
   "metadata": {},
   "source": [
    "Работу выполнил: Королев Егор, студент 4-го курса НИУ МАИ факультет информационных технологий и прикладной математики.  \n",
    "Группа: М8О-401Б-18.  \n",
    "Работа выполнялась, исходя из 2 целей: выполнение лабораторных работ по курсу Искусственного интеллекта в МАИ, а также как финальное задание курса Введение в машинное обучение на Coursera.  \n",
    "Были рассмортрены следующие методы машинного обучения:  \n",
    "* метод k-ближайших соседей;\n",
    "* наивный байесовский классификатор;\n",
    "* логистическая регрессия;\n",
    "* дерево решений;\n",
    "* SVM;\n",
    "* Случайный лес;\n",
    "* Градиентный бустинг."
   ]
  },
  {
   "cell_type": "markdown",
   "id": "586f001b",
   "metadata": {},
   "source": [
    "Решение задачи было отправлено на соревнование Kaggle (kaggle score = 0.75522).  \n",
    "https://www.kaggle.com/c/dota-2-win-probability-prediction/submissions"
   ]
  },
  {
   "cell_type": "code",
   "execution_count": 2,
   "id": "52f8eea5",
   "metadata": {},
   "outputs": [],
   "source": [
    "import numpy as np\n",
    "import pandas as pd\n",
    "import random\n",
    "\n",
    "import seaborn as sns\n",
    "import matplotlib.pyplot as plt\n",
    "%matplotlib inline\n",
    "\n",
    "import json\n",
    "import bz2\n",
    "\n",
    "import time\n",
    "import datetime\n",
    "\n",
    "from sklearn.linear_model import LogisticRegression\n",
    "from sklearn.neighbors import KNeighborsClassifier\n",
    "from sklearn import naive_bayes\n",
    "from sklearn.ensemble import GradientBoostingClassifier\n",
    "from sklearn.tree import DecisionTreeClassifier\n",
    "from sklearn.ensemble import RandomForestClassifier\n",
    "\n",
    "from sklearn.model_selection import KFold, cross_val_score\n",
    "from sklearn.preprocessing import StandardScaler\n",
    "from sklearn.metrics import roc_auc_score\n",
    "from sklearn.model_selection import train_test_split\n",
    "from sklearn.utils import resample\n",
    "from collections import Counter"
   ]
  },
  {
   "cell_type": "markdown",
   "id": "c4ddd1a1",
   "metadata": {},
   "source": [
    "## Постановка задачи"
   ]
  },
  {
   "cell_type": "markdown",
   "id": "1697c3e9",
   "metadata": {},
   "source": [
    "Построить предсказательную систему выигрыша команды в игре Dota2 по первым 5 минутам игры."
   ]
  },
  {
   "cell_type": "markdown",
   "id": "d7a16faa",
   "metadata": {},
   "source": [
    "## Описание данных"
   ]
  },
  {
   "cell_type": "markdown",
   "id": "108bddd6",
   "metadata": {},
   "source": [
    "Все множество пар признаков/ответов находится в сжатом файле src/data/matches.jsonlines.bz2. Файл содержит объекты в формате JSON."
   ]
  },
  {
   "cell_type": "markdown",
   "id": "6e1300a3",
   "metadata": {},
   "source": [
    "Каждый объект записи матча содержит следующие поля:  \n",
    "* match_id - идентификатор матча\n",
    "* start_time - дата/время начала матча, unixtime\n",
    "* lobby_type - тип комнаты, в которой собираются игроки\n",
    "* picks_bans - структурный объект для обозначения стадии выбора героев\n",
    "* players - информация про каждого игрока (id героя, временные ряды опыта, золота + стоимости всех купленных вещей, кол-во убитых юнитов противника, список событий (улучшение способностей героя, убийства, покупка предметов, выкуп героя из таверны, утсановка \"наблюдателей\"))\n",
    "* times - отсчеты игрового времени, в которые вычисляются значения временных рядов, например [0,60,120,180,240,...]\n",
    "* objectives - ключевые события игры (время события, тип события,индексы игроков, номер команды)\n",
    "* finish - итог матча (длительность в секундах, победившая команда, состояние башен, состояние бараков)"
   ]
  },
  {
   "cell_type": "markdown",
   "id": "06781395",
   "metadata": {},
   "source": [
    "Состояние башен к концу игры задается целым числом, закодировано в битах:\n",
    "\n",
    "```\n",
    "┌─┬─┬─┬─┬─────────────────────── Not used.\n",
    "│ │ │ │ │ ┌───────────────────── Ancient Bottom\n",
    "│ │ │ │ │ │ ┌─────────────────── Ancient Top\n",
    "│ │ │ │ │ │ │ ┌───────────────── Bottom Tier 3\n",
    "│ │ │ │ │ │ │ │ ┌─────────────── Bottom Tier 2\n",
    "│ │ │ │ │ │ │ │ │ ┌───────────── Bottom Tier 1\n",
    "│ │ │ │ │ │ │ │ │ │ ┌─────────── Middle Tier 3\n",
    "│ │ │ │ │ │ │ │ │ │ │ ┌───────── Middle Tier 2\n",
    "│ │ │ │ │ │ │ │ │ │ │ │ ┌─────── Middle Tier 1\n",
    "│ │ │ │ │ │ │ │ │ │ │ │ │ ┌───── Top Tier 3\n",
    "│ │ │ │ │ │ │ │ │ │ │ │ │ │ ┌─── Top Tier 2\n",
    "│ │ │ │ │ │ │ │ │ │ │ │ │ │ │ ┌─ Top Tier 1\n",
    "│ │ │ │ │ │ │ │ │ │ │ │ │ │ │ │\n",
    "0 0 0 0 0 0 0 0 0 0 0 0 0 0 0 0\n",
    "```\n",
    "\n",
    "Состояние бараков к концу игры закодировано в битах целого числа:\n",
    "\n",
    "```\n",
    "┌─┬───────────── Not used.\n",
    "│ │ ┌─────────── Bottom Ranged\n",
    "│ │ │ ┌───────── Bottom Melee\n",
    "│ │ │ │ ┌─────── Middle Ranged\n",
    "│ │ │ │ │ ┌───── Middle Melee\n",
    "│ │ │ │ │ │ ┌─── Top Ranged\n",
    "│ │ │ │ │ │ │ ┌─ Top Melee\n",
    "│ │ │ │ │ │ │ │\n",
    "0 0 0 0 0 0 0 0\n",
    "```"
   ]
  },
  {
   "cell_type": "markdown",
   "id": "de9b498e",
   "metadata": {},
   "source": [
    "Для примера выведу информацию об игроках в первом матче выборки:"
   ]
  },
  {
   "cell_type": "code",
   "execution_count": 126,
   "id": "10c532da",
   "metadata": {
    "scrolled": true
   },
   "outputs": [
    {
     "name": "stdout",
     "output_type": "stream",
     "text": [
      "[{'buyback_log': [{'key': None, 'time': 2507}], 'lh_t': [0, 2, 7, 14, 20, 28, 33, 40, 45, 50, 57, 64, 68, 74, 76, 80, 89, 92, 92, 97, 97, 112, 115, 123, 124, 132, 146, 152, 166, 180, 180, 183, 185, 189, 201, 220, 225, 231, 253, 261, 275, 283, 293, 296, 296, 306, 319, 337, 347, 364, 365], 'obs_log': [], 'purchase_log': [{'item_id': 44, 'time': -73}, {'item_id': 16, 'time': -72}, {'item_id': 182, 'time': -71}, {'item_id': 39, 'time': -68}, {'item_id': 16, 'time': -66}, {'item_id': 14, 'time': 43}, {'item_id': 71, 'time': 43}, {'item_id': 14, 'time': 43}, {'item_id': 29, 'time': 175}, {'item_id': 54, 'time': 783}, {'item_id': 46, 'time': 847}, {'item_id': 137, 'time': 984}, {'item_id': 46, 'time': 1049}, {'item_id': 46, 'time': 1128}, {'item_id': 22, 'time': 1187}, {'item_id': 22, 'time': 1208}, {'item_id': 46, 'time': 1296}, {'item_id': 46, 'time': 1320}, {'item_id': 46, 'time': 1538}, {'item_id': 19, 'time': 1552}, {'item_id': 174, 'time': 1606}, {'item_id': 22, 'time': 1870}, {'item_id': 18, 'time': 1870}, {'item_id': 170, 'time': 1870}, {'item_id': 46, 'time': 1948}, {'item_id': 46, 'time': 1961}, {'item_id': 24, 'time': 2239}, {'item_id': 147, 'time': 2307}, {'item_id': 196, 'time': 2378}, {'item_id': 46, 'time': 2414}, {'item_id': 46, 'time': 2435}, {'item_id': 46, 'time': 2551}, {'item_id': 53, 'time': 2846}, {'item_id': 114, 'time': 2846}, {'item_id': 61, 'time': 2846}, {'item_id': 25, 'time': 2870}, {'item_id': 63, 'time': 2870}, {'item_id': 17, 'time': 2870}], 'xp_t': [0, 175, 396, 704, 846, 1034, 1171, 1627, 2081, 2427, 2829, 3161, 3511, 3903, 4895, 5052, 5568, 5881, 6205, 6428, 7463, 8286, 8676, 9233, 9664, 10392, 11682, 12043, 12624, 13459, 13459, 13577, 14836, 15228, 16062, 16745, 17307, 20343, 21087, 22179, 22642, 22942, 23192, 24343, 24343, 24668, 26986, 30854, 31022, 31393, 31470], 'sen_log': [], 'kills_log': [{'player': 7, 'unit': 'npc_dota_hero_viper', 'time': 831}, {'player': 5, 'unit': 'npc_dota_hero_phoenix', 'time': 1014}, {'player': 8, 'unit': 'npc_dota_hero_skeleton_king', 'time': 1155}, {'player': 6, 'unit': 'npc_dota_hero_juggernaut', 'time': 1162}, {'player': 9, 'unit': 'npc_dota_hero_jakiro', 'time': 1525}, {'player': 8, 'unit': 'npc_dota_hero_skeleton_king', 'time': 1892}, {'player': 8, 'unit': 'npc_dota_hero_skeleton_king', 'time': 2121}, {'player': 9, 'unit': 'npc_dota_hero_jakiro', 'time': 2336}, {'player': 8, 'unit': 'npc_dota_hero_skeleton_king', 'time': 2536}, {'player': 8, 'unit': 'npc_dota_hero_skeleton_king', 'time': 2743}, {'player': 6, 'unit': 'npc_dota_hero_juggernaut', 'time': 2758}, {'player': 7, 'unit': 'npc_dota_hero_viper', 'time': 2762}, {'player': 6, 'unit': 'npc_dota_hero_juggernaut', 'time': 2785}, {'player': 9, 'unit': 'npc_dota_hero_jakiro', 'time': 2789}], 'gold_t': [0, 277, 579, 955, 1294, 1720, 2017, 2436, 2738, 3058, 3443, 3834, 4093, 4435, 5278, 5573, 6029, 6437, 6660, 7297, 8332, 9025, 9287, 9674, 9934, 10379, 11425, 11815, 12405, 13329, 13429, 13642, 14314, 14579, 15280, 15847, 16545, 17890, 18652, 19323, 19766, 20037, 20347, 20715, 20815, 21108, 23114, 25946, 26246, 26723, 26811], 'ability_upgrades': [{'time': 51, 'ability': 5334, 'level': 1}, {'time': 131, 'ability': 5335, 'level': 2}, {'time': 204, 'ability': 5334, 'level': 3}, {'time': 319, 'ability': 5335, 'level': 4}, {'time': 451, 'ability': 5335, 'level': 5}, {'time': 528, 'ability': 5337, 'level': 6}, {'time': 639, 'ability': 5335, 'level': 7}, {'time': 731, 'ability': 5336, 'level': 8}, {'time': 897, 'ability': 5334, 'level': 9}, {'time': 1004, 'ability': 5334, 'level': 10}, {'time': 1093, 'ability': 5337, 'level': 11}, {'time': 1314, 'ability': 5002, 'level': 12}, {'time': 1400, 'ability': 5336, 'level': 13}, {'time': 1618, 'ability': 5336, 'level': 14}, {'time': 1639, 'ability': 5336, 'level': 15}, {'time': 1870, 'ability': 5337, 'level': 16}, {'time': 2037, 'ability': 5002, 'level': 17}, {'time': 2179, 'ability': 5002, 'level': 18}, {'time': 2284, 'ability': 5002, 'level': 19}, {'time': 2323, 'ability': 5002, 'level': 20}, {'time': 2531, 'ability': 5002, 'level': 21}, {'time': 2808, 'ability': 5002, 'level': 22}, {'time': 2861, 'ability': 5002, 'level': 23}, {'time': 2861, 'ability': 5002, 'level': 24}], 'hero_id': 67}, {'buyback_log': [], 'lh_t': [0, 0, 2, 2, 2, 2, 2, 4, 4, 6, 7, 7, 7, 10, 10, 10, 18, 18, 18, 18, 18, 18, 18, 18, 18, 18, 19, 19, 21, 23, 23, 24, 26, 31, 31, 31, 31, 32, 41, 41, 43, 43, 43, 43, 50, 52, 52, 54, 57, 60, 61], 'obs_log': [{'xy': [111, 130], 'time': 1711}, {'xy': [136, 164], 'time': 1732}], 'purchase_log': [{'item_id': 45, 'time': -84}, {'item_id': 44, 'time': -78}, {'item_id': 39, 'time': -76}, {'item_id': 38, 'time': -75}, {'item_id': 38, 'time': -75}, {'item_id': 16, 'time': -57}, {'item_id': 16, 'time': -54}, {'item_id': 84, 'time': 181}, {'item_id': 29, 'time': 300}, {'item_id': 46, 'time': 365}, {'item_id': 46, 'time': 585}, {'item_id': 59, 'time': 766}, {'item_id': 180, 'time': 811}, {'item_id': 46, 'time': 1063}, {'item_id': 20, 'time': 1068}, {'item_id': 36, 'time': 1068}, {'item_id': 34, 'time': 1068}, {'item_id': 46, 'time': 1094}, {'item_id': 1, 'time': 1289}, {'item_id': 21, 'time': 1433}, {'item_id': 46, 'time': 1537}, {'item_id': 60, 'time': 1753}, {'item_id': 46, 'time': 1896}, {'item_id': 23, 'time': 1967}, {'item_id': 22, 'time': 1967}, {'item_id': 108, 'time': 1972}, {'item_id': 58, 'time': 2290}], 'xp_t': [0, 13, 115, 177, 335, 523, 732, 1136, 1293, 1448, 1541, 1749, 1913, 2036, 2149, 2529, 3782, 3862, 5315, 5538, 5904, 6176, 7653, 7653, 8908, 10085, 11708, 12032, 12159, 12697, 12828, 12884, 13916, 17113, 17113, 17319, 17411, 20269, 20661, 23610, 24090, 24090, 26050, 26050, 26236, 26494, 26494, 26609, 26937, 27163, 27223], 'sen_log': [], 'kills_log': [{'player': 9, 'unit': 'npc_dota_hero_jakiro', 'time': 905}, {'player': 5, 'unit': 'npc_dota_hero_phoenix', 'time': 1140}, {'player': 7, 'unit': 'npc_dota_hero_viper', 'time': 1287}, {'player': 9, 'unit': 'npc_dota_hero_jakiro', 'time': 1409}, {'player': 5, 'unit': 'npc_dota_hero_phoenix', 'time': 2508}], 'gold_t': [0, 99, 243, 343, 499, 599, 872, 1044, 1144, 1320, 1456, 1556, 1656, 1827, 1927, 2105, 2905, 3005, 3897, 4157, 4579, 4769, 5427, 5527, 6203, 6501, 7082, 7284, 7474, 7915, 8015, 8159, 8918, 9882, 10142, 10242, 10542, 12195, 12487, 13335, 13512, 13612, 14351, 14451, 14686, 14877, 14977, 15116, 15362, 15515, 15606], 'ability_upgrades': [{'time': 54, 'ability': 5462, 'level': 1}, {'time': 267, 'ability': 5463, 'level': 2}, {'time': 351, 'ability': 5462, 'level': 3}, {'time': 472, 'ability': 5464, 'level': 4}, {'time': 598, 'ability': 5462, 'level': 5}, {'time': 821, 'ability': 5465, 'level': 6}, {'time': 971, 'ability': 5462, 'level': 7}, {'time': 972, 'ability': 5463, 'level': 8}, {'time': 1144, 'ability': 5463, 'level': 9}, {'time': 1150, 'ability': 5463, 'level': 10}, {'time': 1278, 'ability': 5465, 'level': 11}, {'time': 1479, 'ability': 5464, 'level': 12}, {'time': 1531, 'ability': 5464, 'level': 13}, {'time': 1588, 'ability': 5464, 'level': 14}, {'time': 1640, 'ability': 5002, 'level': 15}, {'time': 1986, 'ability': 5465, 'level': 16}, {'time': 1987, 'ability': 5002, 'level': 17}, {'time': 2019, 'ability': 5002, 'level': 18}, {'time': 2279, 'ability': 5002, 'level': 19}, {'time': 2357, 'ability': 5002, 'level': 20}, {'time': 2403, 'ability': 5002, 'level': 21}, {'time': 2578, 'ability': 5002, 'level': 22}], 'hero_id': 88}, {'buyback_log': [{'key': None, 'time': 2779}], 'lh_t': [0, 2, 7, 10, 13, 14, 19, 19, 25, 26, 28, 29, 31, 32, 32, 33, 33, 33, 33, 33, 33, 37, 37, 44, 44, 44, 44, 44, 47, 48, 48, 48, 49, 57, 58, 60, 60, 60, 69, 71, 71, 78, 79, 79, 87, 93, 93, 97, 105, 112, 112], 'obs_log': [], 'purchase_log': [{'item_id': 16, 'time': -83}, {'item_id': 16, 'time': -83}, {'item_id': 41, 'time': 61}, {'item_id': 29, 'time': 169}, {'item_id': 46, 'time': 262}, {'item_id': 46, 'time': 400}, {'item_id': 46, 'time': 406}, {'item_id': 59, 'time': 564}, {'item_id': 180, 'time': 570}, {'item_id': 46, 'time': 786}, {'item_id': 46, 'time': 786}, {'item_id': 46, 'time': 860}, {'item_id': 46, 'time': 1062}, {'item_id': 21, 'time': 1169}, {'item_id': 46, 'time': 1204}, {'item_id': 23, 'time': 1404}, {'item_id': 46, 'time': 1453}, {'item_id': 60, 'time': 1501}, {'item_id': 46, 'time': 1532}, {'item_id': 22, 'time': 1932}, {'item_id': 108, 'time': 1950}, {'item_id': 46, 'time': 1951}, {'item_id': 61, 'time': 2015}, {'item_id': 58, 'time': 2327}, {'item_id': 60, 'time': 2329}, {'item_id': 129, 'time': 2334}, {'item_id': 235, 'time': 2334}, {'item_id': 46, 'time': 2578}, {'item_id': 37, 'time': 2715}], 'xp_t': [0, 268, 691, 1000, 1433, 1722, 2208, 2381, 2765, 2930, 3425, 3649, 3938, 4215, 4246, 4323, 4923, 5346, 5346, 5346, 6177, 6487, 7951, 8431, 8876, 10031, 10878, 10878, 11208, 11258, 11348, 11404, 11443, 14201, 14490, 14612, 14642, 17121, 17508, 18337, 18361, 19027, 19721, 19721, 20399, 20724, 22654, 26545, 26841, 27155, 27155], 'sen_log': [], 'kills_log': [{'player': 5, 'unit': 'npc_dota_hero_phoenix', 'time': 349}, {'player': 5, 'unit': 'npc_dota_hero_phoenix', 'time': 935}, {'player': 9, 'unit': 'npc_dota_hero_jakiro', 'time': 1158}, {'player': 5, 'unit': 'npc_dota_hero_phoenix', 'time': 1495}, {'player': 8, 'unit': 'npc_dota_hero_skeleton_king', 'time': 1506}, {'player': 8, 'unit': 'npc_dota_hero_skeleton_king', 'time': 1829}, {'player': 7, 'unit': 'npc_dota_hero_viper', 'time': 1924}, {'player': 5, 'unit': 'npc_dota_hero_phoenix', 'time': 1936}, {'player': 6, 'unit': 'npc_dota_hero_juggernaut', 'time': 2210}, {'player': 8, 'unit': 'npc_dota_hero_skeleton_king', 'time': 2210}, {'player': 7, 'unit': 'npc_dota_hero_viper', 'time': 2213}, {'player': 9, 'unit': 'npc_dota_hero_jakiro', 'time': 2215}, {'player': 5, 'unit': 'npc_dota_hero_phoenix', 'time': 2339}, {'player': 8, 'unit': 'npc_dota_hero_skeleton_king', 'time': 2492}, {'player': 5, 'unit': 'npc_dota_hero_phoenix', 'time': 2763}], 'gold_t': [0, 178, 475, 698, 911, 1051, 1483, 1645, 1976, 2112, 2291, 2503, 2676, 2891, 2991, 3226, 3515, 3798, 3898, 4158, 4817, 5123, 5860, 6278, 6607, 7405, 7898, 7998, 8210, 8520, 8620, 8720, 8867, 10914, 11215, 11365, 11665, 14151, 14456, 14921, 15021, 15399, 15670, 15770, 16211, 16489, 17618, 19218, 19408, 19659, 19728], 'ability_upgrades': [{'time': 0, 'ability': 5110, 'level': 1}, {'time': 98, 'ability': 5111, 'level': 2}, {'time': 156, 'ability': 5111, 'level': 3}, {'time': 215, 'ability': 5112, 'level': 4}, {'time': 296, 'ability': 5111, 'level': 5}, {'time': 391, 'ability': 5113, 'level': 6}, {'time': 507, 'ability': 5111, 'level': 7}, {'time': 629, 'ability': 5112, 'level': 8}, {'time': 996, 'ability': 5112, 'level': 9}, {'time': 1200, 'ability': 5112, 'level': 10}, {'time': 1220, 'ability': 5113, 'level': 11}, {'time': 1414, 'ability': 5110, 'level': 12}, {'time': 1527, 'ability': 5110, 'level': 13}, {'time': 1567, 'ability': 5002, 'level': 14}, {'time': 1986, 'ability': 5110, 'level': 15}, {'time': 2004, 'ability': 5113, 'level': 16}, {'time': 2275, 'ability': 5002, 'level': 17}, {'time': 2277, 'ability': 5002, 'level': 18}, {'time': 2506, 'ability': 5002, 'level': 19}, {'time': 2809, 'ability': 5002, 'level': 20}, {'time': 2826, 'ability': 5002, 'level': 21}, {'time': 2851, 'ability': 5002, 'level': 22}], 'hero_id': 22}, {'buyback_log': [], 'lh_t': [0, 0, 0, 0, 0, 0, 0, 0, 0, 0, 0, 0, 0, 1, 2, 3, 4, 4, 4, 8, 8, 13, 13, 14, 15, 15, 15, 15, 16, 18, 19, 19, 19, 19, 19, 19, 20, 21, 25, 27, 27, 27, 27, 30, 35, 42, 42, 45, 48, 51, 51], 'obs_log': [{'xy': [145, 118], 'time': 4}, {'xy': [121, 136], 'time': 514}, {'xy': [98, 154], 'time': 675}, {'xy': [120, 137], 'time': 976}, {'xy': [148, 107], 'time': 1195}, {'xy': [111, 130], 'time': 1568}, {'xy': [128, 146], 'time': 1592}, {'xy': [115, 93], 'time': 1991}, {'xy': [144, 118], 'time': 2006}, {'xy': [148, 107], 'time': 2287}], 'purchase_log': [{'item_id': 42, 'time': -82}, {'item_id': 44, 'time': -81}, {'item_id': 42, 'time': -69}, {'item_id': 16, 'time': -57}, {'item_id': 16, 'time': -57}, {'item_id': 34, 'time': -51}, {'item_id': 38, 'time': -49}, {'item_id': 181, 'time': 165}, {'item_id': 20, 'time': 314}, {'item_id': 36, 'time': 400}, {'item_id': 29, 'time': 441}, {'item_id': 46, 'time': 453}, {'item_id': 42, 'time': 455}, {'item_id': 42, 'time': 455}, {'item_id': 42, 'time': 919}, {'item_id': 42, 'time': 1042}, {'item_id': 42, 'time': 1042}, {'item_id': 46, 'time': 1044}, {'item_id': 60, 'time': 1058}, {'item_id': 21, 'time': 1204}, {'item_id': 42, 'time': 1265}, {'item_id': 43, 'time': 1359}, {'item_id': 42, 'time': 1435}, {'item_id': 42, 'time': 1436}, {'item_id': 23, 'time': 1668}, {'item_id': 22, 'time': 1904}, {'item_id': 108, 'time': 1913}, {'item_id': 42, 'time': 1933}, {'item_id': 42, 'time': 1938}, {'item_id': 42, 'time': 2242}, {'item_id': 59, 'time': 2248}, {'item_id': 180, 'time': 2258}, {'item_id': 46, 'time': 2434}, {'item_id': 4, 'time': 2441}, {'item_id': 28, 'time': 2441}, {'item_id': 187, 'time': 2441}], 'xp_t': [0, 75, 296, 480, 591, 768, 1008, 1028, 1218, 1218, 1218, 1393, 1568, 1733, 2746, 3009, 3261, 3554, 3878, 4441, 5011, 5180, 5180, 5345, 6600, 6682, 7439, 7511, 7638, 7896, 8008, 8064, 9057, 9057, 9096, 9168, 9198, 10909, 10961, 10961, 11093, 11180, 11849, 11874, 12493, 12705, 12705, 12807, 13001, 13123, 13175], 'sen_log': [{'xy': [137, 90], 'time': 1391}, {'xy': [144, 91], 'time': 1400}], 'kills_log': [{'player': 9, 'unit': 'npc_dota_hero_jakiro', 'time': 446}, {'player': 8, 'unit': 'npc_dota_hero_skeleton_king', 'time': 1024}, {'player': 8, 'unit': 'npc_dota_hero_skeleton_king', 'time': 1838}, {'player': 5, 'unit': 'npc_dota_hero_phoenix', 'time': 2204}], 'gold_t': [0, 99, 199, 299, 399, 557, 760, 860, 1194, 1294, 1394, 1494, 1594, 1739, 2299, 2437, 2579, 2814, 3308, 3728, 4201, 4490, 4590, 4733, 5379, 5479, 5820, 5920, 6020, 6367, 6508, 6608, 7425, 7525, 7785, 7885, 8225, 9816, 10080, 10265, 10365, 10465, 10767, 10930, 11173, 11463, 11563, 11724, 11896, 12062, 12131], 'ability_upgrades': [{'time': 43, 'ability': 5347, 'level': 1}, {'time': 147, 'ability': 5345, 'level': 2}, {'time': 253, 'ability': 5347, 'level': 3}, {'time': 419, 'ability': 5346, 'level': 4}, {'time': 723, 'ability': 5347, 'level': 5}, {'time': 894, 'ability': 5348, 'level': 6}, {'time': 896, 'ability': 5346, 'level': 7}, {'time': 1011, 'ability': 5346, 'level': 8}, {'time': 1208, 'ability': 5346, 'level': 9}, {'time': 1463, 'ability': 5347, 'level': 10}, {'time': 1478, 'ability': 5348, 'level': 11}, {'time': 1987, 'ability': 5345, 'level': 12}, {'time': 1988, 'ability': 5345, 'level': 13}, {'time': 2284, 'ability': 5345, 'level': 14}, {'time': 2647, 'ability': 5002, 'level': 15}], 'hero_id': 68}, {'buyback_log': [{'key': None, 'time': 2926}], 'lh_t': [0, 0, 1, 1, 1, 1, 4, 5, 5, 10, 11, 13, 17, 21, 21, 21, 26, 28, 29, 34, 34, 35, 35, 41, 41, 42, 45, 54, 73, 75, 76, 79, 82, 100, 107, 113, 113, 118, 124, 129, 144, 156, 157, 157, 167, 167, 167, 172, 183, 195, 200], 'obs_log': [{'xy': [89, 161], 'time': -30}], 'purchase_log': [{'item_id': 182, 'time': -83}, {'item_id': 44, 'time': -81}, {'item_id': 39, 'time': -80}, {'item_id': 38, 'time': -79}, {'item_id': 38, 'time': -77}, {'item_id': 46, 'time': 200}, {'item_id': 29, 'time': 365}, {'item_id': 46, 'time': 450}, {'item_id': 46, 'time': 541}, {'item_id': 46, 'time': 712}, {'item_id': 180, 'time': 752}, {'item_id': 59, 'time': 752}, {'item_id': 46, 'time': 768}, {'item_id': 46, 'time': 768}, {'item_id': 46, 'time': 856}, {'item_id': 46, 'time': 909}, {'item_id': 46, 'time': 1041}, {'item_id': 28, 'time': 1042}, {'item_id': 27, 'time': 1090}, {'item_id': 178, 'time': 1127}, {'item_id': 60, 'time': 1205}, {'item_id': 46, 'time': 1207}, {'item_id': 59, 'time': 1312}, {'item_id': 46, 'time': 1427}, {'item_id': 46, 'time': 1427}, {'item_id': 46, 'time': 1527}, {'item_id': 61, 'time': 1730}, {'item_id': 129, 'time': 1745}, {'item_id': 121, 'time': 1745}, {'item_id': 46, 'time': 1931}, {'item_id': 46, 'time': 1931}, {'item_id': 60, 'time': 1991}, {'item_id': 58, 'time': 2582}, {'item_id': 61, 'time': 2851}, {'item_id': 180, 'time': 2866}, {'item_id': 180, 'time': 2873}, {'item_id': 129, 'time': 2878}, {'item_id': 235, 'time': 2879}], 'xp_t': [0, 31, 299, 423, 423, 454, 908, 1217, 1500, 2083, 2413, 2588, 2776, 3707, 3769, 3815, 4178, 4562, 6911, 7134, 8535, 8907, 9284, 9676, 10121, 10285, 10522, 10924, 12140, 12388, 12438, 12556, 14868, 15334, 15706, 15948, 15978, 18877, 19082, 19320, 19601, 19905, 23153, 24304, 24553, 24640, 26595, 30335, 30655, 30841, 30942], 'sen_log': [], 'kills_log': [{'player': 9, 'unit': 'npc_dota_hero_jakiro', 'time': 736}, {'player': 9, 'unit': 'npc_dota_hero_jakiro', 'time': 1070}, {'player': 7, 'unit': 'npc_dota_hero_viper', 'time': 1077}, {'player': 9, 'unit': 'npc_dota_hero_jakiro', 'time': 1278}, {'player': 7, 'unit': 'npc_dota_hero_viper', 'time': 1392}, {'player': 8, 'unit': 'npc_dota_hero_skeleton_king', 'time': 1484}, {'player': 6, 'unit': 'npc_dota_hero_juggernaut', 'time': 1902}, {'player': 4, 'unit': 'npc_dota_hero_shredder', 'time': 1907}, {'player': 9, 'unit': 'npc_dota_hero_jakiro', 'time': 2495}, {'player': 7, 'unit': 'npc_dota_hero_viper', 'time': 2503}], 'gold_t': [0, 99, 243, 343, 443, 543, 765, 909, 1151, 1458, 1599, 1782, 2074, 2671, 2771, 2965, 3269, 3615, 5045, 5512, 6154, 6299, 6740, 7082, 7628, 7774, 7995, 8410, 9213, 9568, 9713, 9938, 11391, 11876, 12354, 12704, 13004, 13305, 13531, 13735, 14162, 14519, 15912, 16012, 16321, 16421, 17783, 18875, 19200, 19521, 19627], 'ability_upgrades': [{'time': 101, 'ability': 5526, 'level': 1}, {'time': 164, 'ability': 5525, 'level': 2}, {'time': 365, 'ability': 5525, 'level': 3}, {'time': 417, 'ability': 5524, 'level': 4}, {'time': 506, 'ability': 5525, 'level': 5}, {'time': 580, 'ability': 5527, 'level': 6}, {'time': 721, 'ability': 5524, 'level': 7}, {'time': 802, 'ability': 5524, 'level': 8}, {'time': 1075, 'ability': 5524, 'level': 9}, {'time': 1139, 'ability': 5527, 'level': 10}, {'time': 1141, 'ability': 5526, 'level': 11}, {'time': 1223, 'ability': 5525, 'level': 12}, {'time': 1349, 'ability': 5526, 'level': 13}, {'time': 1611, 'ability': 5002, 'level': 14}, {'time': 1737, 'ability': 5526, 'level': 15}, {'time': 1953, 'ability': 5527, 'level': 16}, {'time': 2022, 'ability': 5002, 'level': 17}, {'time': 2271, 'ability': 5002, 'level': 18}, {'time': 2283, 'ability': 5002, 'level': 19}, {'time': 2563, 'ability': 5002, 'level': 20}, {'time': 2564, 'ability': 5002, 'level': 21}, {'time': 2809, 'ability': 5002, 'level': 22}, {'time': 2833, 'ability': 5002, 'level': 23}, {'time': 2859, 'ability': 5002, 'level': 24}], 'hero_id': 98}, {'buyback_log': [], 'lh_t': [0, 0, 1, 2, 3, 3, 3, 4, 11, 11, 11, 11, 12, 14, 18, 18, 19, 19, 22, 24, 25, 33, 34, 39, 43, 43, 43, 43, 43, 43, 44, 44, 44, 45, 45, 47, 48, 55, 55, 57, 57, 62, 62, 62, 62, 62, 62, 62, 62, 62, 67], 'obs_log': [{'xy': [158, 101], 'time': 8}], 'purchase_log': [{'item_id': 13, 'time': -79}, {'item_id': 13, 'time': -79}, {'item_id': 44, 'time': -79}, {'item_id': 39, 'time': -78}, {'item_id': 28, 'time': 226}, {'item_id': 92, 'time': 294}, {'item_id': 216, 'time': 310}, {'item_id': 29, 'time': 498}, {'item_id': 39, 'time': 547}, {'item_id': 27, 'time': 621}, {'item_id': 12, 'time': 724}, {'item_id': 46, 'time': 764}, {'item_id': 214, 'time': 772}, {'item_id': 46, 'time': 960}, {'item_id': 27, 'time': 1054}, {'item_id': 46, 'time': 1179}, {'item_id': 23, 'time': 1309}, {'item_id': 102, 'time': 1411}, {'item_id': 46, 'time': 1583}, {'item_id': 21, 'time': 1596}, {'item_id': 17, 'time': 1596}, {'item_id': 46, 'time': 1788}, {'item_id': 162, 'time': 1814}, {'item_id': 46, 'time': 2041}, {'item_id': 53, 'time': 2262}, {'item_id': 46, 'time': 2281}, {'item_id': 46, 'time': 2615}, {'item_id': 114, 'time': 2869}, {'item_id': 61, 'time': 2869}], 'xp_t': [0, 124, 329, 525, 751, 782, 813, 937, 1492, 1770, 1894, 1894, 2327, 2611, 3168, 3426, 3906, 4031, 4330, 4487, 4580, 5302, 7560, 8000, 11011, 11787, 11787, 11872, 12052, 12883, 13085, 13785, 14337, 14337, 14337, 14617, 15827, 16356, 16356, 16768, 16768, 17067, 18276, 18276, 18276, 19840, 21017, 21017, 21017, 21034, 22427], 'sen_log': [{'xy': [153, 92], 'time': 118}], 'kills_log': [{'player': 0, 'unit': 'npc_dota_hero_spectre', 'time': 1394}, {'player': 2, 'unit': 'npc_dota_hero_zuus', 'time': 1404}, {'player': 1, 'unit': 'npc_dota_hero_nyx_assassin', 'time': 1411}, {'player': 4, 'unit': 'npc_dota_hero_shredder', 'time': 1488}], 'gold_t': [0, 99, 242, 382, 520, 620, 720, 856, 1272, 1372, 1472, 1572, 1716, 2063, 2331, 2591, 2931, 3031, 3256, 3470, 3612, 4028, 4629, 5111, 6573, 7061, 7161, 7261, 7361, 7779, 8124, 8396, 9236, 9375, 9475, 9647, 10280, 11736, 11836, 12017, 12117, 12420, 12834, 12934, 13409, 14259, 15127, 15507, 15607, 15707, 16310], 'ability_upgrades': [{'time': -23, 'ability': 5623, 'level': 1}, {'time': 150, 'ability': 5625, 'level': 2}, {'time': 254, 'ability': 5625, 'level': 3}, {'time': 483, 'ability': 5626, 'level': 4}, {'time': 541, 'ability': 5625, 'level': 5}, {'time': 750, 'ability': 5630, 'level': 6}, {'time': 838, 'ability': 5625, 'level': 7}, {'time': 925, 'ability': 5626, 'level': 8}, {'time': 1148, 'ability': 5626, 'level': 9}, {'time': 1359, 'ability': 5626, 'level': 10}, {'time': 1360, 'ability': 5630, 'level': 11}, {'time': 1481, 'ability': 5623, 'level': 12}, {'time': 1482, 'ability': 5623, 'level': 13}, {'time': 1482, 'ability': 5623, 'level': 14}, {'time': 1716, 'ability': 5002, 'level': 15}, {'time': 1912, 'ability': 5630, 'level': 16}, {'time': 2305, 'ability': 5002, 'level': 17}, {'time': 2511, 'ability': 5002, 'level': 18}, {'time': 2724, 'ability': 5002, 'level': 19}, {'time': 2827, 'ability': 5002, 'level': 20}], 'hero_id': 110}, {'buyback_log': [{'key': None, 'time': 2762}], 'lh_t': [0, 4, 7, 12, 18, 25, 29, 36, 41, 44, 51, 59, 63, 73, 82, 86, 95, 108, 122, 130, 130, 131, 136, 149, 161, 172, 189, 199, 216, 218, 228, 232, 236, 236, 242, 260, 263, 266, 266, 268, 279, 290, 299, 299, 315, 327, 327, 327, 327, 331, 331], 'obs_log': [], 'purchase_log': [{'item_id': 20, 'time': -82}, {'item_id': 16, 'time': -82}, {'item_id': 16, 'time': -82}, {'item_id': 36, 'time': -82}, {'item_id': 34, 'time': -82}, {'item_id': 14, 'time': -79}, {'item_id': 14, 'time': -79}, {'item_id': 14, 'time': -75}, {'item_id': 14, 'time': -75}, {'item_id': 71, 'time': -75}, {'item_id': 182, 'time': -75}, {'item_id': 20, 'time': -73}, {'item_id': 13, 'time': -73}, {'item_id': 73, 'time': -73}, {'item_id': 44, 'time': -71}, {'item_id': 39, 'time': -70}, {'item_id': 38, 'time': -68}, {'item_id': 14, 'time': -67}, {'item_id': 20, 'time': -63}, {'item_id': 29, 'time': 113}, {'item_id': 2, 'time': 218}, {'item_id': 50, 'time': 218}, {'item_id': 2, 'time': 218}, {'item_id': 26, 'time': 389}, {'item_id': 172, 'time': 498}, {'item_id': 46, 'time': 504}, {'item_id': 28, 'time': 573}, {'item_id': 12, 'time': 585}, {'item_id': 75, 'time': 615}, {'item_id': 88, 'time': 615}, {'item_id': 212, 'time': 615}, {'item_id': 22, 'time': 736}, {'item_id': 18, 'time': 736}, {'item_id': 170, 'time': 794}, {'item_id': 21, 'time': 900}, {'item_id': 46, 'time': 902}, {'item_id': 17, 'time': 959}, {'item_id': 162, 'time': 1052}, {'item_id': 154, 'time': 1052}, {'item_id': 46, 'time': 1216}, {'item_id': 46, 'time': 1217}, {'item_id': 24, 'time': 1574}, {'item_id': 24, 'time': 1575}, {'item_id': 60, 'time': 1705}, {'item_id': 181, 'time': 1706}, {'item_id': 160, 'time': 1763}, {'item_id': 17, 'time': 1991}, {'item_id': 7, 'time': 1991}, {'item_id': 143, 'time': 1991}, {'item_id': 208, 'time': 2315}, {'item_id': 54, 'time': 2315}, {'item_id': 29, 'time': 2708}, {'item_id': 48, 'time': 2708}, {'item_id': 220, 'time': 2711}, {'item_id': 21, 'time': 2755}, {'item_id': 8, 'time': 2755}, {'item_id': 116, 'time': 2755}], 'xp_t': [0, 113, 323, 529, 795, 1128, 1254, 1542, 2194, 2506, 2672, 2849, 3814, 4443, 4891, 5441, 5786, 6689, 7606, 8194, 9175, 9344, 9630, 10469, 11388, 12060, 13138, 13667, 14369, 16680, 16895, 18355, 19038, 19038, 19466, 19896, 21138, 21667, 21667, 22136, 23679, 24428, 28559, 32779, 32779, 32779, 32779, 32779, 32779, 32779, 32779], 'sen_log': [], 'kills_log': [{'player': 4, 'unit': 'npc_dota_hero_shredder', 'time': 198}, {'player': 3, 'unit': 'npc_dota_hero_ancient_apparition', 'time': 455}, {'player': 4, 'unit': 'npc_dota_hero_shredder', 'time': 530}, {'player': 4, 'unit': 'npc_dota_hero_shredder', 'time': 694}, {'player': 3, 'unit': 'npc_dota_hero_ancient_apparition', 'time': 699}, {'player': 4, 'unit': 'npc_dota_hero_shredder', 'time': 882}, {'player': 1, 'unit': 'npc_dota_hero_nyx_assassin', 'time': 1144}, {'player': 2, 'unit': 'npc_dota_hero_zuus', 'time': 1160}, {'player': 2, 'unit': 'npc_dota_hero_zuus', 'time': 1691}, {'player': 0, 'unit': 'npc_dota_hero_spectre', 'time': 1733}, {'player': 1, 'unit': 'npc_dota_hero_nyx_assassin', 'time': 1836}, {'player': 0, 'unit': 'npc_dota_hero_spectre', 'time': 1900}, {'player': 2, 'unit': 'npc_dota_hero_zuus', 'time': 2128}, {'player': 4, 'unit': 'npc_dota_hero_shredder', 'time': 2131}, {'player': 3, 'unit': 'npc_dota_hero_ancient_apparition', 'time': 2136}, {'player': 1, 'unit': 'npc_dota_hero_nyx_assassin', 'time': 2392}, {'player': 0, 'unit': 'npc_dota_hero_spectre', 'time': 2490}, {'player': 2, 'unit': 'npc_dota_hero_zuus', 'time': 2499}, {'player': 3, 'unit': 'npc_dota_hero_ancient_apparition', 'time': 2509}, {'player': 1, 'unit': 'npc_dota_hero_nyx_assassin', 'time': 2517}, {'player': 4, 'unit': 'npc_dota_hero_shredder', 'time': 2527}, {'player': 0, 'unit': 'npc_dota_hero_spectre', 'time': 2546}, {'player': 4, 'unit': 'npc_dota_hero_shredder', 'time': 2651}, {'player': 3, 'unit': 'npc_dota_hero_ancient_apparition', 'time': 2735}, {'player': 2, 'unit': 'npc_dota_hero_zuus', 'time': 2771}, {'player': 4, 'unit': 'npc_dota_hero_shredder', 'time': 2773}, {'player': 4, 'unit': 'npc_dota_hero_shredder', 'time': 2923}, {'player': 3, 'unit': 'npc_dota_hero_ancient_apparition', 'time': 2958}], 'gold_t': [0, 260, 486, 797, 1468, 1850, 2113, 2491, 3138, 3592, 3975, 4424, 5306, 5875, 6366, 7145, 7669, 8253, 8948, 9311, 10142, 10314, 10653, 11235, 11848, 12392, 13153, 13565, 14320, 15544, 16242, 17078, 18740, 18840, 19282, 20127, 21549, 22593, 22693, 22877, 23914, 24657, 27115, 28646, 29739, 31364, 32339, 33142, 33242, 33992, 34501], 'ability_upgrades': [{'time': 92, 'ability': 5028, 'level': 1}, {'time': 137, 'ability': 5027, 'level': 2}, {'time': 231, 'ability': 5029, 'level': 3}, {'time': 325, 'ability': 5002, 'level': 4}, {'time': 463, 'ability': 5002, 'level': 5}, {'time': 517, 'ability': 5030, 'level': 6}, {'time': 641, 'ability': 5002, 'level': 7}, {'time': 763, 'ability': 5002, 'level': 8}, {'time': 835, 'ability': 5002, 'level': 9}, {'time': 948, 'ability': 5027, 'level': 10}, {'time': 1037, 'ability': 5030, 'level': 11}, {'time': 1212, 'ability': 5002, 'level': 12}, {'time': 1242, 'ability': 5002, 'level': 13}, {'time': 1437, 'ability': 5027, 'level': 14}, {'time': 1551, 'ability': 5002, 'level': 15}, {'time': 1652, 'ability': 5030, 'level': 16}, {'time': 1755, 'ability': 5027, 'level': 17}, {'time': 1870, 'ability': 5002, 'level': 18}, {'time': 1963, 'ability': 5029, 'level': 19}, {'time': 2212, 'ability': 5029, 'level': 20}, {'time': 2460, 'ability': 5029, 'level': 21}, {'time': 2589, 'ability': 5028, 'level': 22}, {'time': 2612, 'ability': 5002, 'level': 23}, {'time': 2612, 'ability': 5028, 'level': 24}, {'time': 2612, 'ability': 5028, 'level': 25}], 'hero_id': 8}, {'buyback_log': [], 'lh_t': [0, 1, 6, 13, 18, 23, 29, 31, 32, 35, 38, 46, 51, 60, 63, 63, 72, 76, 83, 83, 83, 92, 92, 92, 92, 100, 108, 119, 123, 124, 125, 126, 127, 127, 127, 131, 134, 136, 136, 140, 143, 146, 146, 146, 146, 147, 151, 151, 153, 160, 160], 'obs_log': [], 'purchase_log': [{'item_id': 27, 'time': -82}, {'item_id': 16, 'time': -75}, {'item_id': 16, 'time': -75}, {'item_id': 16, 'time': -74}, {'item_id': 44, 'time': -69}, {'item_id': 34, 'time': 86}, {'item_id': 94, 'time': 113}, {'item_id': 20, 'time': 155}, {'item_id': 46, 'time': 167}, {'item_id': 36, 'time': 192}, {'item_id': 29, 'time': 218}, {'item_id': 25, 'time': 289}, {'item_id': 63, 'time': 335}, {'item_id': 17, 'time': 335}, {'item_id': 46, 'time': 452}, {'item_id': 31, 'time': 508}, {'item_id': 27, 'time': 565}, {'item_id': 27, 'time': 591}, {'item_id': 56, 'time': 724}, {'item_id': 131, 'time': 749}, {'item_id': 46, 'time': 801}, {'item_id': 46, 'time': 802}, {'item_id': 46, 'time': 812}, {'item_id': 4, 'time': 871}, {'item_id': 28, 'time': 872}, {'item_id': 90, 'time': 881}, {'item_id': 4, 'time': 887}, {'item_id': 28, 'time': 887}, {'item_id': 187, 'time': 924}, {'item_id': 32, 'time': 1071}, {'item_id': 229, 'time': 1138}, {'item_id': 46, 'time': 1346}, {'item_id': 60, 'time': 1366}, {'item_id': 46, 'time': 1454}, {'item_id': 21, 'time': 1593}, {'item_id': 23, 'time': 1654}, {'item_id': 46, 'time': 1655}, {'item_id': 22, 'time': 1655}, {'item_id': 46, 'time': 1662}, {'item_id': 108, 'time': 1699}, {'item_id': 24, 'time': 2034}, {'item_id': 58, 'time': 2263}, {'item_id': 57, 'time': 2394}, {'item_id': 96, 'time': 2407}, {'item_id': 46, 'time': 2435}], 'xp_t': [0, 389, 781, 1235, 1689, 2502, 2925, 3296, 3420, 4440, 4605, 5209, 5601, 6204, 8330, 8392, 8934, 9059, 11950, 11950, 13432, 13714, 15196, 15196, 15196, 15800, 16480, 17148, 17521, 18303, 18441, 19726, 21154, 21154, 21193, 21499, 22496, 23025, 23025, 23432, 24650, 25131, 26468, 26468, 26468, 26687, 28010, 28010, 28060, 28552, 29817], 'sen_log': [], 'kills_log': [{'player': 2, 'unit': 'npc_dota_hero_zuus', 'time': 256}, {'player': 2, 'unit': 'npc_dota_hero_zuus', 'time': 522}, {'player': 3, 'unit': 'npc_dota_hero_ancient_apparition', 'time': 799}, {'player': 2, 'unit': 'npc_dota_hero_zuus', 'time': 823}, {'player': 4, 'unit': 'npc_dota_hero_shredder', 'time': 831}, {'player': 4, 'unit': 'npc_dota_hero_shredder', 'time': 1020}, {'player': 0, 'unit': 'npc_dota_hero_spectre', 'time': 1026}, {'player': 1, 'unit': 'npc_dota_hero_nyx_assassin', 'time': 1031}, {'player': 3, 'unit': 'npc_dota_hero_ancient_apparition', 'time': 1038}, {'player': 2, 'unit': 'npc_dota_hero_zuus', 'time': 1068}, {'player': 4, 'unit': 'npc_dota_hero_shredder', 'time': 1172}, {'player': 4, 'unit': 'npc_dota_hero_shredder', 'time': 1283}, {'player': 2, 'unit': 'npc_dota_hero_zuus', 'time': 1288}, {'player': 3, 'unit': 'npc_dota_hero_ancient_apparition', 'time': 1838}, {'player': 2, 'unit': 'npc_dota_hero_zuus', 'time': 1843}, {'player': 4, 'unit': 'npc_dota_hero_shredder', 'time': 2204}, {'player': 1, 'unit': 'npc_dota_hero_nyx_assassin', 'time': 2707}], 'gold_t': [0, 238, 541, 922, 1223, 1894, 2236, 2423, 2561, 3257, 3475, 3931, 4233, 5018, 6372, 6632, 7331, 7594, 9637, 9737, 10154, 10451, 11468, 11648, 11748, 12195, 12613, 13193, 13598, 14319, 14666, 15518, 16885, 16985, 17085, 17390, 17981, 19368, 19468, 19875, 20277, 20495, 20861, 20961, 21436, 22195, 23586, 23966, 24100, 24456, 24720], 'ability_upgrades': [{'time': 78, 'ability': 5220, 'level': 1}, {'time': 108, 'ability': 5219, 'level': 2}, {'time': 137, 'ability': 5220, 'level': 3}, {'time': 199, 'ability': 5218, 'level': 4}, {'time': 255, 'ability': 5220, 'level': 5}, {'time': 318, 'ability': 5221, 'level': 6}, {'time': 383, 'ability': 5220, 'level': 7}, {'time': 452, 'ability': 5219, 'level': 8}, {'time': 585, 'ability': 5219, 'level': 9}, {'time': 751, 'ability': 5219, 'level': 10}, {'time': 826, 'ability': 5221, 'level': 11}, {'time': 939, 'ability': 5218, 'level': 12}, {'time': 1067, 'ability': 5218, 'level': 13}, {'time': 1100, 'ability': 5002, 'level': 14}, {'time': 1142, 'ability': 5218, 'level': 15}, {'time': 1284, 'ability': 5221, 'level': 16}, {'time': 1531, 'ability': 5002, 'level': 17}, {'time': 1646, 'ability': 5002, 'level': 18}, {'time': 1913, 'ability': 5002, 'level': 19}, {'time': 1995, 'ability': 5002, 'level': 20}, {'time': 2267, 'ability': 5002, 'level': 21}, {'time': 2526, 'ability': 5002, 'level': 22}, {'time': 2779, 'ability': 5002, 'level': 23}], 'hero_id': 47}, {'buyback_log': [], 'lh_t': [0, 0, 1, 1, 1, 4, 4, 5, 6, 6, 6, 6, 7, 10, 11, 11, 11, 12, 12, 14, 14, 17, 21, 22, 23, 23, 23, 24, 25, 25, 27, 27, 27, 27, 28, 28, 28, 28, 28, 29, 30, 31, 31, 31, 31, 33, 34, 34, 34, 37, 37], 'obs_log': [{'xy': [112, 131], 'time': 1075}, {'xy': [144, 90], 'time': 1356}, {'xy': [148, 107], 'time': 1615}, {'xy': [112, 130], 'time': 1673}, {'xy': [148, 107], 'time': 1698}, {'xy': [148, 107], 'time': 2443}, {'xy': [134, 106], 'time': 2457}, {'xy': [89, 124], 'time': 2664}, {'xy': [112, 131], 'time': 2903}, {'xy': [94, 96], 'time': 2940}], 'purchase_log': [{'item_id': 45, 'time': -78}, {'item_id': 38, 'time': -68}, {'item_id': 38, 'time': -66}, {'item_id': 44, 'time': -65}, {'item_id': 39, 'time': -65}, {'item_id': 216, 'time': -38}, {'item_id': 29, 'time': 207}, {'item_id': 182, 'time': 384}, {'item_id': 44, 'time': 385}, {'item_id': 180, 'time': 572}, {'item_id': 59, 'time': 572}, {'item_id': 46, 'time': 600}, {'item_id': 46, 'time': 649}, {'item_id': 39, 'time': 725}, {'item_id': 42, 'time': 916}, {'item_id': 42, 'time': 920}, {'item_id': 42, 'time': 920}, {'item_id': 46, 'time': 1054}, {'item_id': 46, 'time': 1257}, {'item_id': 37, 'time': 1332}, {'item_id': 1, 'time': 1335}, {'item_id': 46, 'time': 1336}, {'item_id': 42, 'time': 1638}, {'item_id': 42, 'time': 1639}, {'item_id': 27, 'time': 1982}, {'item_id': 16, 'time': 1982}, {'item_id': 94, 'time': 1982}, {'item_id': 4, 'time': 1982}, {'item_id': 16, 'time': 1982}, {'item_id': 86, 'time': 1982}, {'item_id': 79, 'time': 1982}, {'item_id': 30, 'time': 2245}, {'item_id': 42, 'time': 2399}, {'item_id': 42, 'time': 2399}, {'item_id': 42, 'time': 2399}, {'item_id': 231, 'time': 2405}, {'item_id': 31, 'time': 2563}, {'item_id': 42, 'time': 2566}, {'item_id': 42, 'time': 2618}, {'item_id': 46, 'time': 2620}, {'item_id': 37, 'time': 2735}], 'xp_t': [0, 31, 72, 72, 132, 329, 455, 537, 1256, 1537, 1703, 1836, 2018, 2213, 2408, 3298, 3298, 3908, 4262, 4419, 5400, 5543, 6449, 6650, 9599, 10437, 10443, 10519, 10638, 11430, 11583, 12323, 12413, 12413, 12613, 12849, 14049, 14578, 14578, 14743, 15868, 16012, 18570, 18570, 18570, 18745, 19922, 19922, 19922, 21414, 22566], 'sen_log': [], 'kills_log': [{'player': 4, 'unit': 'npc_dota_hero_shredder', 'time': 450}, {'player': 2, 'unit': 'npc_dota_hero_zuus', 'time': 899}, {'player': 2, 'unit': 'npc_dota_hero_zuus', 'time': 1014}, {'player': 3, 'unit': 'npc_dota_hero_ancient_apparition', 'time': 1417}], 'gold_t': [0, 99, 221, 321, 490, 680, 780, 902, 1527, 1706, 1806, 1906, 2044, 2395, 2535, 3221, 3521, 3988, 4180, 4356, 4577, 4787, 5208, 5430, 6669, 7020, 7120, 7258, 7394, 7827, 8367, 8591, 9431, 9531, 9673, 9773, 10326, 11300, 11400, 11541, 11907, 12045, 12866, 12966, 13441, 14084, 15028, 15408, 15508, 16092, 16550], 'ability_upgrades': [{'time': -25, 'ability': 5086, 'level': 1}, {'time': 310, 'ability': 5087, 'level': 2}, {'time': 474, 'ability': 5086, 'level': 3}, {'time': 520, 'ability': 5087, 'level': 4}, {'time': 592, 'ability': 5086, 'level': 5}, {'time': 770, 'ability': 5089, 'level': 6}, {'time': 964, 'ability': 5086, 'level': 7}, {'time': 966, 'ability': 5087, 'level': 8}, {'time': 1161, 'ability': 5087, 'level': 9}, {'time': 1224, 'ability': 5088, 'level': 10}, {'time': 1353, 'ability': 5089, 'level': 11}, {'time': 1473, 'ability': 5088, 'level': 12}, {'time': 1478, 'ability': 5088, 'level': 13}, {'time': 1552, 'ability': 5088, 'level': 14}, {'time': 1898, 'ability': 5002, 'level': 15}, {'time': 2195, 'ability': 5089, 'level': 16}, {'time': 2454, 'ability': 5002, 'level': 17}, {'time': 2561, 'ability': 5002, 'level': 18}, {'time': 2768, 'ability': 5002, 'level': 19}, {'time': 2983, 'ability': 5002, 'level': 20}], 'hero_id': 42}, {'buyback_log': [], 'lh_t': [0, 0, 0, 0, 0, 0, 1, 1, 1, 1, 1, 1, 1, 1, 3, 7, 7, 8, 10, 10, 10, 15, 17, 17, 17, 17, 18, 19, 20, 20, 21, 26, 35, 36, 37, 37, 38, 39, 39, 44, 44, 44, 45, 45, 49, 50, 50, 50, 50, 51, 51], 'obs_log': [{'xy': [120, 137], 'time': 15}, {'xy': [111, 147], 'time': 675}, {'xy': [148, 106], 'time': 956}, {'xy': [111, 130], 'time': 1639}, {'xy': [141, 106], 'time': 1699}, {'xy': [91, 96], 'time': 1878}], 'purchase_log': [{'item_id': 42, 'time': -65}, {'item_id': 42, 'time': -62}, {'item_id': 44, 'time': -61}, {'item_id': 218, 'time': -58}, {'item_id': 43, 'time': -58}, {'item_id': 16, 'time': -50}, {'item_id': 16, 'time': -50}, {'item_id': 16, 'time': -50}, {'item_id': 218, 'time': -34}, {'item_id': 29, 'time': 225}, {'item_id': 84, 'time': 328}, {'item_id': 39, 'time': 402}, {'item_id': 46, 'time': 606}, {'item_id': 42, 'time': 615}, {'item_id': 42, 'time': 615}, {'item_id': 46, 'time': 647}, {'item_id': 43, 'time': 714}, {'item_id': 218, 'time': 763}, {'item_id': 20, 'time': 769}, {'item_id': 36, 'time': 769}, {'item_id': 34, 'time': 769}, {'item_id': 28, 'time': 938}, {'item_id': 46, 'time': 941}, {'item_id': 23, 'time': 1039}, {'item_id': 46, 'time': 1205}, {'item_id': 46, 'time': 1205}, {'item_id': 57, 'time': 1435}, {'item_id': 42, 'time': 1447}, {'item_id': 42, 'time': 1447}, {'item_id': 42, 'time': 1447}, {'item_id': 43, 'time': 1452}, {'item_id': 218, 'time': 1453}, {'item_id': 42, 'time': 1453}, {'item_id': 218, 'time': 1454}, {'item_id': 42, 'time': 1454}, {'item_id': 100, 'time': 1459}, {'item_id': 46, 'time': 1586}, {'item_id': 42, 'time': 1813}, {'item_id': 218, 'time': 1814}, {'item_id': 43, 'time': 1814}, {'item_id': 61, 'time': 1963}, {'item_id': 180, 'time': 1963}, {'item_id': 59, 'time': 1963}, {'item_id': 60, 'time': 1963}, {'item_id': 129, 'time': 1973}, {'item_id': 46, 'time': 1997}, {'item_id': 46, 'time': 1997}, {'item_id': 46, 'time': 2282}, {'item_id': 46, 'time': 2402}, {'item_id': 235, 'time': 2721}, {'item_id': 58, 'time': 2721}, {'item_id': 48, 'time': 2870}], 'xp_t': [0, 82, 292, 436, 702, 870, 996, 1160, 1222, 1468, 1614, 1791, 2108, 2211, 2374, 3006, 3006, 3616, 5747, 5747, 6113, 6778, 6849, 6942, 8401, 8401, 8407, 8483, 8667, 9051, 9191, 10476, 11853, 12114, 12237, 12723, 13984, 14498, 14498, 14806, 14806, 15105, 15156, 15156, 16351, 16447, 17376, 20063, 20063, 21338, 22005], 'sen_log': [{'xy': [112, 131], 'time': 19}, {'xy': [100, 155], 'time': 787}, {'xy': [144, 109], 'time': 957}, {'xy': [144, 109], 'time': 1619}, {'xy': [112, 131], 'time': 1636}, {'xy': [111, 130], 'time': 1932}, {'xy': [149, 121], 'time': 2029}], 'kills_log': [{'player': 0, 'unit': 'npc_dota_hero_spectre', 'time': 1279}, {'player': 4, 'unit': 'npc_dota_hero_shredder', 'time': 1400}], 'gold_t': [0, 99, 199, 299, 485, 585, 724, 824, 924, 1123, 1223, 1323, 1608, 1868, 2059, 2625, 2925, 3282, 4239, 4339, 4590, 4931, 5338, 5518, 6381, 6481, 6597, 6737, 6887, 7335, 7678, 8318, 10069, 10333, 10483, 10701, 11570, 12567, 12667, 12935, 13035, 13135, 13285, 13385, 13948, 14555, 15379, 16442, 16542, 16880, 17175], 'ability_upgrades': [{'time': 86, 'ability': 5299, 'level': 1}, {'time': 152, 'ability': 5298, 'level': 2}, {'time': 263, 'ability': 5299, 'level': 3}, {'time': 377, 'ability': 5297, 'level': 4}, {'time': 604, 'ability': 5298, 'level': 5}, {'time': 769, 'ability': 5300, 'level': 6}, {'time': 960, 'ability': 5298, 'level': 7}, {'time': 1107, 'ability': 5299, 'level': 8}, {'time': 1107, 'ability': 5298, 'level': 9}, {'time': 1143, 'ability': 5299, 'level': 10}, {'time': 1246, 'ability': 5300, 'level': 11}, {'time': 1479, 'ability': 5297, 'level': 12}, {'time': 1802, 'ability': 5297, 'level': 13}, {'time': 1910, 'ability': 5297, 'level': 14}, {'time': 2015, 'ability': 5002, 'level': 15}, {'time': 2225, 'ability': 5300, 'level': 16}, {'time': 2656, 'ability': 5002, 'level': 17}, {'time': 2771, 'ability': 5002, 'level': 18}, {'time': 2851, 'ability': 5002, 'level': 19}, {'time': 2989, 'ability': 5002, 'level': 20}], 'hero_id': 64}]\n"
     ]
    }
   ],
   "source": [
    "with bz2.BZ2File('./src/data/matches.jsonlines.bz2', mode='r') as matches_file:\n",
    "    match_1 = json.loads(matches_file.readline())\n",
    "    print(match_1[\"players\"])"
   ]
  },
  {
   "cell_type": "markdown",
   "id": "d95eea00",
   "metadata": {},
   "source": [
    "Скрипт extract_features.py извлекает часть признаков за первые 5 минут игры из файла matches.jsonlines. И составляет таблицу из этих данных.  \n",
    "features.csv содержит наиболее важные признаки для решения задачи."
   ]
  },
  {
   "cell_type": "markdown",
   "id": "c972c155",
   "metadata": {},
   "source": [
    "## Предварительный анализ данных"
   ]
  },
  {
   "cell_type": "markdown",
   "id": "541557fe",
   "metadata": {},
   "source": [
    "Загрузка данных и вывод первых записей:"
   ]
  },
  {
   "cell_type": "code",
   "execution_count": 67,
   "id": "003b7158",
   "metadata": {},
   "outputs": [],
   "source": [
    "df = pd.read_csv(\"./src/data/features.csv\", index_col=\"match_id\")"
   ]
  },
  {
   "cell_type": "code",
   "execution_count": 128,
   "id": "0bd08881",
   "metadata": {
    "scrolled": false
   },
   "outputs": [
    {
     "data": {
      "text/html": [
       "<div>\n",
       "<style scoped>\n",
       "    .dataframe tbody tr th:only-of-type {\n",
       "        vertical-align: middle;\n",
       "    }\n",
       "\n",
       "    .dataframe tbody tr th {\n",
       "        vertical-align: top;\n",
       "    }\n",
       "\n",
       "    .dataframe thead th {\n",
       "        text-align: right;\n",
       "    }\n",
       "</style>\n",
       "<table border=\"1\" class=\"dataframe\">\n",
       "  <thead>\n",
       "    <tr style=\"text-align: right;\">\n",
       "      <th></th>\n",
       "      <th>start_time</th>\n",
       "      <th>lobby_type</th>\n",
       "      <th>r1_hero</th>\n",
       "      <th>r1_level</th>\n",
       "      <th>r1_xp</th>\n",
       "      <th>r1_gold</th>\n",
       "      <th>r1_lh</th>\n",
       "      <th>r1_kills</th>\n",
       "      <th>r1_deaths</th>\n",
       "      <th>r1_items</th>\n",
       "      <th>...</th>\n",
       "      <th>dire_boots_count</th>\n",
       "      <th>dire_ward_observer_count</th>\n",
       "      <th>dire_ward_sentry_count</th>\n",
       "      <th>dire_first_ward_time</th>\n",
       "      <th>duration</th>\n",
       "      <th>radiant_win</th>\n",
       "      <th>tower_status_radiant</th>\n",
       "      <th>tower_status_dire</th>\n",
       "      <th>barracks_status_radiant</th>\n",
       "      <th>barracks_status_dire</th>\n",
       "    </tr>\n",
       "    <tr>\n",
       "      <th>match_id</th>\n",
       "      <th></th>\n",
       "      <th></th>\n",
       "      <th></th>\n",
       "      <th></th>\n",
       "      <th></th>\n",
       "      <th></th>\n",
       "      <th></th>\n",
       "      <th></th>\n",
       "      <th></th>\n",
       "      <th></th>\n",
       "      <th></th>\n",
       "      <th></th>\n",
       "      <th></th>\n",
       "      <th></th>\n",
       "      <th></th>\n",
       "      <th></th>\n",
       "      <th></th>\n",
       "      <th></th>\n",
       "      <th></th>\n",
       "      <th></th>\n",
       "      <th></th>\n",
       "    </tr>\n",
       "  </thead>\n",
       "  <tbody>\n",
       "    <tr>\n",
       "      <th>0</th>\n",
       "      <td>1430198770</td>\n",
       "      <td>7</td>\n",
       "      <td>11</td>\n",
       "      <td>5</td>\n",
       "      <td>2098</td>\n",
       "      <td>1489</td>\n",
       "      <td>20</td>\n",
       "      <td>0</td>\n",
       "      <td>0</td>\n",
       "      <td>7</td>\n",
       "      <td>...</td>\n",
       "      <td>4</td>\n",
       "      <td>2</td>\n",
       "      <td>2</td>\n",
       "      <td>-52.0</td>\n",
       "      <td>2874</td>\n",
       "      <td>1</td>\n",
       "      <td>1796</td>\n",
       "      <td>0</td>\n",
       "      <td>51</td>\n",
       "      <td>0</td>\n",
       "    </tr>\n",
       "    <tr>\n",
       "      <th>1</th>\n",
       "      <td>1430220345</td>\n",
       "      <td>0</td>\n",
       "      <td>42</td>\n",
       "      <td>4</td>\n",
       "      <td>1188</td>\n",
       "      <td>1033</td>\n",
       "      <td>9</td>\n",
       "      <td>0</td>\n",
       "      <td>1</td>\n",
       "      <td>12</td>\n",
       "      <td>...</td>\n",
       "      <td>4</td>\n",
       "      <td>3</td>\n",
       "      <td>1</td>\n",
       "      <td>-5.0</td>\n",
       "      <td>2463</td>\n",
       "      <td>1</td>\n",
       "      <td>1974</td>\n",
       "      <td>0</td>\n",
       "      <td>63</td>\n",
       "      <td>1</td>\n",
       "    </tr>\n",
       "    <tr>\n",
       "      <th>2</th>\n",
       "      <td>1430227081</td>\n",
       "      <td>7</td>\n",
       "      <td>33</td>\n",
       "      <td>4</td>\n",
       "      <td>1319</td>\n",
       "      <td>1270</td>\n",
       "      <td>22</td>\n",
       "      <td>0</td>\n",
       "      <td>0</td>\n",
       "      <td>12</td>\n",
       "      <td>...</td>\n",
       "      <td>4</td>\n",
       "      <td>3</td>\n",
       "      <td>1</td>\n",
       "      <td>13.0</td>\n",
       "      <td>2130</td>\n",
       "      <td>0</td>\n",
       "      <td>0</td>\n",
       "      <td>1830</td>\n",
       "      <td>0</td>\n",
       "      <td>63</td>\n",
       "    </tr>\n",
       "    <tr>\n",
       "      <th>3</th>\n",
       "      <td>1430263531</td>\n",
       "      <td>1</td>\n",
       "      <td>29</td>\n",
       "      <td>4</td>\n",
       "      <td>1779</td>\n",
       "      <td>1056</td>\n",
       "      <td>14</td>\n",
       "      <td>0</td>\n",
       "      <td>0</td>\n",
       "      <td>5</td>\n",
       "      <td>...</td>\n",
       "      <td>4</td>\n",
       "      <td>2</td>\n",
       "      <td>0</td>\n",
       "      <td>27.0</td>\n",
       "      <td>1459</td>\n",
       "      <td>0</td>\n",
       "      <td>1920</td>\n",
       "      <td>2047</td>\n",
       "      <td>50</td>\n",
       "      <td>63</td>\n",
       "    </tr>\n",
       "    <tr>\n",
       "      <th>4</th>\n",
       "      <td>1430282290</td>\n",
       "      <td>7</td>\n",
       "      <td>13</td>\n",
       "      <td>4</td>\n",
       "      <td>1431</td>\n",
       "      <td>1090</td>\n",
       "      <td>8</td>\n",
       "      <td>1</td>\n",
       "      <td>0</td>\n",
       "      <td>8</td>\n",
       "      <td>...</td>\n",
       "      <td>3</td>\n",
       "      <td>3</td>\n",
       "      <td>0</td>\n",
       "      <td>-16.0</td>\n",
       "      <td>2449</td>\n",
       "      <td>0</td>\n",
       "      <td>4</td>\n",
       "      <td>1974</td>\n",
       "      <td>3</td>\n",
       "      <td>63</td>\n",
       "    </tr>\n",
       "  </tbody>\n",
       "</table>\n",
       "<p>5 rows × 108 columns</p>\n",
       "</div>"
      ],
      "text/plain": [
       "          start_time  lobby_type  r1_hero  r1_level  r1_xp  r1_gold  r1_lh  \\\n",
       "match_id                                                                     \n",
       "0         1430198770           7       11         5   2098     1489     20   \n",
       "1         1430220345           0       42         4   1188     1033      9   \n",
       "2         1430227081           7       33         4   1319     1270     22   \n",
       "3         1430263531           1       29         4   1779     1056     14   \n",
       "4         1430282290           7       13         4   1431     1090      8   \n",
       "\n",
       "          r1_kills  r1_deaths  r1_items  ...  dire_boots_count  \\\n",
       "match_id                                 ...                     \n",
       "0                0          0         7  ...                 4   \n",
       "1                0          1        12  ...                 4   \n",
       "2                0          0        12  ...                 4   \n",
       "3                0          0         5  ...                 4   \n",
       "4                1          0         8  ...                 3   \n",
       "\n",
       "          dire_ward_observer_count  dire_ward_sentry_count  \\\n",
       "match_id                                                     \n",
       "0                                2                       2   \n",
       "1                                3                       1   \n",
       "2                                3                       1   \n",
       "3                                2                       0   \n",
       "4                                3                       0   \n",
       "\n",
       "          dire_first_ward_time  duration  radiant_win  tower_status_radiant  \\\n",
       "match_id                                                                      \n",
       "0                        -52.0      2874            1                  1796   \n",
       "1                         -5.0      2463            1                  1974   \n",
       "2                         13.0      2130            0                     0   \n",
       "3                         27.0      1459            0                  1920   \n",
       "4                        -16.0      2449            0                     4   \n",
       "\n",
       "          tower_status_dire  barracks_status_radiant  barracks_status_dire  \n",
       "match_id                                                                    \n",
       "0                         0                       51                     0  \n",
       "1                         0                       63                     1  \n",
       "2                      1830                        0                    63  \n",
       "3                      2047                       50                    63  \n",
       "4                      1974                        3                    63  \n",
       "\n",
       "[5 rows x 108 columns]"
      ]
     },
     "execution_count": 128,
     "metadata": {},
     "output_type": "execute_result"
    }
   ],
   "source": [
    "df.head()"
   ]
  },
  {
   "cell_type": "markdown",
   "id": "c29db7ad",
   "metadata": {},
   "source": [
    "Основные статистики по признакам:"
   ]
  },
  {
   "cell_type": "code",
   "execution_count": 129,
   "id": "64477360",
   "metadata": {
    "scrolled": false
   },
   "outputs": [
    {
     "data": {
      "text/html": [
       "<div>\n",
       "<style scoped>\n",
       "    .dataframe tbody tr th:only-of-type {\n",
       "        vertical-align: middle;\n",
       "    }\n",
       "\n",
       "    .dataframe tbody tr th {\n",
       "        vertical-align: top;\n",
       "    }\n",
       "\n",
       "    .dataframe thead th {\n",
       "        text-align: right;\n",
       "    }\n",
       "</style>\n",
       "<table border=\"1\" class=\"dataframe\">\n",
       "  <thead>\n",
       "    <tr style=\"text-align: right;\">\n",
       "      <th></th>\n",
       "      <th>start_time</th>\n",
       "      <th>lobby_type</th>\n",
       "      <th>r1_hero</th>\n",
       "      <th>r1_level</th>\n",
       "      <th>r1_xp</th>\n",
       "      <th>r1_gold</th>\n",
       "      <th>r1_lh</th>\n",
       "      <th>r1_kills</th>\n",
       "      <th>r1_deaths</th>\n",
       "      <th>r1_items</th>\n",
       "      <th>...</th>\n",
       "      <th>dire_boots_count</th>\n",
       "      <th>dire_ward_observer_count</th>\n",
       "      <th>dire_ward_sentry_count</th>\n",
       "      <th>dire_first_ward_time</th>\n",
       "      <th>duration</th>\n",
       "      <th>radiant_win</th>\n",
       "      <th>tower_status_radiant</th>\n",
       "      <th>tower_status_dire</th>\n",
       "      <th>barracks_status_radiant</th>\n",
       "      <th>barracks_status_dire</th>\n",
       "    </tr>\n",
       "  </thead>\n",
       "  <tbody>\n",
       "    <tr>\n",
       "      <th>count</th>\n",
       "      <td>9.723000e+04</td>\n",
       "      <td>97230.000000</td>\n",
       "      <td>97230.000000</td>\n",
       "      <td>97230.000000</td>\n",
       "      <td>97230.000000</td>\n",
       "      <td>97230.000000</td>\n",
       "      <td>97230.000000</td>\n",
       "      <td>97230.000000</td>\n",
       "      <td>97230.000000</td>\n",
       "      <td>97230.000000</td>\n",
       "      <td>...</td>\n",
       "      <td>97230.000000</td>\n",
       "      <td>97230.000000</td>\n",
       "      <td>97230.000000</td>\n",
       "      <td>95404.000000</td>\n",
       "      <td>97230.000000</td>\n",
       "      <td>97230.000000</td>\n",
       "      <td>97230.000000</td>\n",
       "      <td>97230.000000</td>\n",
       "      <td>97230.000000</td>\n",
       "      <td>97230.000000</td>\n",
       "    </tr>\n",
       "    <tr>\n",
       "      <th>mean</th>\n",
       "      <td>1.444232e+09</td>\n",
       "      <td>2.630999</td>\n",
       "      <td>51.517104</td>\n",
       "      <td>3.442672</td>\n",
       "      <td>1233.405801</td>\n",
       "      <td>1147.899702</td>\n",
       "      <td>11.231996</td>\n",
       "      <td>0.357009</td>\n",
       "      <td>0.362285</td>\n",
       "      <td>8.271315</td>\n",
       "      <td>...</td>\n",
       "      <td>3.349553</td>\n",
       "      <td>2.448339</td>\n",
       "      <td>0.689119</td>\n",
       "      <td>-6.901922</td>\n",
       "      <td>2332.247886</td>\n",
       "      <td>0.518503</td>\n",
       "      <td>1309.227790</td>\n",
       "      <td>1286.310820</td>\n",
       "      <td>40.599095</td>\n",
       "      <td>41.337036</td>\n",
       "    </tr>\n",
       "    <tr>\n",
       "      <th>std</th>\n",
       "      <td>5.515393e+06</td>\n",
       "      <td>2.835761</td>\n",
       "      <td>32.564211</td>\n",
       "      <td>1.111741</td>\n",
       "      <td>566.588895</td>\n",
       "      <td>464.111662</td>\n",
       "      <td>9.041620</td>\n",
       "      <td>0.663889</td>\n",
       "      <td>0.626704</td>\n",
       "      <td>2.497575</td>\n",
       "      <td>...</td>\n",
       "      <td>1.155609</td>\n",
       "      <td>0.813459</td>\n",
       "      <td>0.710122</td>\n",
       "      <td>40.701397</td>\n",
       "      <td>715.806850</td>\n",
       "      <td>0.499660</td>\n",
       "      <td>853.921365</td>\n",
       "      <td>851.009148</td>\n",
       "      <td>27.871645</td>\n",
       "      <td>27.064873</td>\n",
       "    </tr>\n",
       "    <tr>\n",
       "      <th>min</th>\n",
       "      <td>1.430199e+09</td>\n",
       "      <td>0.000000</td>\n",
       "      <td>1.000000</td>\n",
       "      <td>0.000000</td>\n",
       "      <td>0.000000</td>\n",
       "      <td>0.000000</td>\n",
       "      <td>0.000000</td>\n",
       "      <td>0.000000</td>\n",
       "      <td>0.000000</td>\n",
       "      <td>0.000000</td>\n",
       "      <td>...</td>\n",
       "      <td>0.000000</td>\n",
       "      <td>0.000000</td>\n",
       "      <td>0.000000</td>\n",
       "      <td>-84.000000</td>\n",
       "      <td>900.000000</td>\n",
       "      <td>0.000000</td>\n",
       "      <td>0.000000</td>\n",
       "      <td>0.000000</td>\n",
       "      <td>0.000000</td>\n",
       "      <td>0.000000</td>\n",
       "    </tr>\n",
       "    <tr>\n",
       "      <th>25%</th>\n",
       "      <td>1.440815e+09</td>\n",
       "      <td>1.000000</td>\n",
       "      <td>22.000000</td>\n",
       "      <td>3.000000</td>\n",
       "      <td>767.000000</td>\n",
       "      <td>746.000000</td>\n",
       "      <td>2.000000</td>\n",
       "      <td>0.000000</td>\n",
       "      <td>0.000000</td>\n",
       "      <td>7.000000</td>\n",
       "      <td>...</td>\n",
       "      <td>3.000000</td>\n",
       "      <td>2.000000</td>\n",
       "      <td>0.000000</td>\n",
       "      <td>-31.000000</td>\n",
       "      <td>1818.000000</td>\n",
       "      <td>0.000000</td>\n",
       "      <td>36.000000</td>\n",
       "      <td>256.000000</td>\n",
       "      <td>3.000000</td>\n",
       "      <td>3.000000</td>\n",
       "    </tr>\n",
       "    <tr>\n",
       "      <th>50%</th>\n",
       "      <td>1.446338e+09</td>\n",
       "      <td>1.000000</td>\n",
       "      <td>50.000000</td>\n",
       "      <td>3.000000</td>\n",
       "      <td>1175.000000</td>\n",
       "      <td>1113.000000</td>\n",
       "      <td>11.000000</td>\n",
       "      <td>0.000000</td>\n",
       "      <td>0.000000</td>\n",
       "      <td>8.000000</td>\n",
       "      <td>...</td>\n",
       "      <td>3.000000</td>\n",
       "      <td>2.000000</td>\n",
       "      <td>1.000000</td>\n",
       "      <td>-16.000000</td>\n",
       "      <td>2268.000000</td>\n",
       "      <td>1.000000</td>\n",
       "      <td>1824.000000</td>\n",
       "      <td>1798.000000</td>\n",
       "      <td>63.000000</td>\n",
       "      <td>60.000000</td>\n",
       "    </tr>\n",
       "    <tr>\n",
       "      <th>75%</th>\n",
       "      <td>1.448829e+09</td>\n",
       "      <td>7.000000</td>\n",
       "      <td>75.000000</td>\n",
       "      <td>4.000000</td>\n",
       "      <td>1704.000000</td>\n",
       "      <td>1479.000000</td>\n",
       "      <td>19.000000</td>\n",
       "      <td>1.000000</td>\n",
       "      <td>1.000000</td>\n",
       "      <td>10.000000</td>\n",
       "      <td>...</td>\n",
       "      <td>4.000000</td>\n",
       "      <td>3.000000</td>\n",
       "      <td>1.000000</td>\n",
       "      <td>8.000000</td>\n",
       "      <td>2778.000000</td>\n",
       "      <td>1.000000</td>\n",
       "      <td>1974.000000</td>\n",
       "      <td>1974.000000</td>\n",
       "      <td>63.000000</td>\n",
       "      <td>63.000000</td>\n",
       "    </tr>\n",
       "    <tr>\n",
       "      <th>max</th>\n",
       "      <td>1.450313e+09</td>\n",
       "      <td>7.000000</td>\n",
       "      <td>112.000000</td>\n",
       "      <td>6.000000</td>\n",
       "      <td>3319.000000</td>\n",
       "      <td>4332.000000</td>\n",
       "      <td>47.000000</td>\n",
       "      <td>8.000000</td>\n",
       "      <td>5.000000</td>\n",
       "      <td>34.000000</td>\n",
       "      <td>...</td>\n",
       "      <td>9.000000</td>\n",
       "      <td>9.000000</td>\n",
       "      <td>13.000000</td>\n",
       "      <td>300.000000</td>\n",
       "      <td>8452.000000</td>\n",
       "      <td>1.000000</td>\n",
       "      <td>2047.000000</td>\n",
       "      <td>2047.000000</td>\n",
       "      <td>63.000000</td>\n",
       "      <td>63.000000</td>\n",
       "    </tr>\n",
       "  </tbody>\n",
       "</table>\n",
       "<p>8 rows × 108 columns</p>\n",
       "</div>"
      ],
      "text/plain": [
       "         start_time    lobby_type       r1_hero      r1_level         r1_xp  \\\n",
       "count  9.723000e+04  97230.000000  97230.000000  97230.000000  97230.000000   \n",
       "mean   1.444232e+09      2.630999     51.517104      3.442672   1233.405801   \n",
       "std    5.515393e+06      2.835761     32.564211      1.111741    566.588895   \n",
       "min    1.430199e+09      0.000000      1.000000      0.000000      0.000000   \n",
       "25%    1.440815e+09      1.000000     22.000000      3.000000    767.000000   \n",
       "50%    1.446338e+09      1.000000     50.000000      3.000000   1175.000000   \n",
       "75%    1.448829e+09      7.000000     75.000000      4.000000   1704.000000   \n",
       "max    1.450313e+09      7.000000    112.000000      6.000000   3319.000000   \n",
       "\n",
       "            r1_gold         r1_lh      r1_kills     r1_deaths      r1_items  \\\n",
       "count  97230.000000  97230.000000  97230.000000  97230.000000  97230.000000   \n",
       "mean    1147.899702     11.231996      0.357009      0.362285      8.271315   \n",
       "std      464.111662      9.041620      0.663889      0.626704      2.497575   \n",
       "min        0.000000      0.000000      0.000000      0.000000      0.000000   \n",
       "25%      746.000000      2.000000      0.000000      0.000000      7.000000   \n",
       "50%     1113.000000     11.000000      0.000000      0.000000      8.000000   \n",
       "75%     1479.000000     19.000000      1.000000      1.000000     10.000000   \n",
       "max     4332.000000     47.000000      8.000000      5.000000     34.000000   \n",
       "\n",
       "       ...  dire_boots_count  dire_ward_observer_count  \\\n",
       "count  ...      97230.000000              97230.000000   \n",
       "mean   ...          3.349553                  2.448339   \n",
       "std    ...          1.155609                  0.813459   \n",
       "min    ...          0.000000                  0.000000   \n",
       "25%    ...          3.000000                  2.000000   \n",
       "50%    ...          3.000000                  2.000000   \n",
       "75%    ...          4.000000                  3.000000   \n",
       "max    ...          9.000000                  9.000000   \n",
       "\n",
       "       dire_ward_sentry_count  dire_first_ward_time      duration  \\\n",
       "count            97230.000000          95404.000000  97230.000000   \n",
       "mean                 0.689119             -6.901922   2332.247886   \n",
       "std                  0.710122             40.701397    715.806850   \n",
       "min                  0.000000            -84.000000    900.000000   \n",
       "25%                  0.000000            -31.000000   1818.000000   \n",
       "50%                  1.000000            -16.000000   2268.000000   \n",
       "75%                  1.000000              8.000000   2778.000000   \n",
       "max                 13.000000            300.000000   8452.000000   \n",
       "\n",
       "        radiant_win  tower_status_radiant  tower_status_dire  \\\n",
       "count  97230.000000          97230.000000       97230.000000   \n",
       "mean       0.518503           1309.227790        1286.310820   \n",
       "std        0.499660            853.921365         851.009148   \n",
       "min        0.000000              0.000000           0.000000   \n",
       "25%        0.000000             36.000000         256.000000   \n",
       "50%        1.000000           1824.000000        1798.000000   \n",
       "75%        1.000000           1974.000000        1974.000000   \n",
       "max        1.000000           2047.000000        2047.000000   \n",
       "\n",
       "       barracks_status_radiant  barracks_status_dire  \n",
       "count             97230.000000          97230.000000  \n",
       "mean                 40.599095             41.337036  \n",
       "std                  27.871645             27.064873  \n",
       "min                   0.000000              0.000000  \n",
       "25%                   3.000000              3.000000  \n",
       "50%                  63.000000             60.000000  \n",
       "75%                  63.000000             63.000000  \n",
       "max                  63.000000             63.000000  \n",
       "\n",
       "[8 rows x 108 columns]"
      ]
     },
     "execution_count": 129,
     "metadata": {},
     "output_type": "execute_result"
    }
   ],
   "source": [
    "df.describe()"
   ]
  },
  {
   "cell_type": "markdown",
   "id": "01e47d4f",
   "metadata": {},
   "source": [
    "Вывод распределений полученного золота игроками команды radiant за первые 5 минут игры:"
   ]
  },
  {
   "cell_type": "code",
   "execution_count": 130,
   "id": "66377921",
   "metadata": {
    "scrolled": false
   },
   "outputs": [
    {
     "data": {
      "text/plain": [
       "(array([2.8700e+02, 3.0391e+04, 2.6927e+04, 2.2499e+04, 1.2967e+04,\n",
       "        3.2620e+03, 7.1400e+02, 1.5200e+02, 2.7000e+01, 4.0000e+00]),\n",
       " array([   0.,  384.,  768., 1152., 1536., 1920., 2304., 2688., 3072.,\n",
       "        3456., 3840.]),\n",
       " <BarContainer object of 10 artists>)"
      ]
     },
     "execution_count": 130,
     "metadata": {},
     "output_type": "execute_result"
    },
    {
     "data": {
      "image/png": "[encoded data removed]",
      "text/plain": [
       "<Figure size 432x288 with 1 Axes>"
      ]
     },
     "metadata": {
      "needs_background": "light"
     },
     "output_type": "display_data"
    }
   ],
   "source": [
    "plt.hist(df[\"r1_gold\"])\n",
    "plt.hist(df[\"r2_gold\"])\n",
    "plt.hist(df[\"r3_gold\"])\n",
    "plt.hist(df[\"r4_gold\"])\n",
    "plt.hist(df[\"r5_gold\"])"
   ]
  },
  {
   "cell_type": "markdown",
   "id": "f056a9dd",
   "metadata": {},
   "source": [
    "Гистограма события first_blood за первые 5 минут игры:"
   ]
  },
  {
   "cell_type": "code",
   "execution_count": 131,
   "id": "afcf0bbc",
   "metadata": {},
   "outputs": [
    {
     "data": {
      "text/plain": [
       "(array([   46.,  7539., 14445., 10416., 12728., 11354.,  8900.,  5372.,\n",
       "         4016.,  2861.]),\n",
       " array([-78. , -40.2,  -2.4,  35.4,  73.2, 111. , 148.8, 186.6, 224.4,\n",
       "        262.2, 300. ]),\n",
       " <BarContainer object of 10 artists>)"
      ]
     },
     "execution_count": 131,
     "metadata": {},
     "output_type": "execute_result"
    },
    {
     "data": {
      "image/png": "[encoded data removed]",
      "text/plain": [
       "<Figure size 432x288 with 1 Axes>"
      ]
     },
     "metadata": {
      "needs_background": "light"
     },
     "output_type": "display_data"
    }
   ],
   "source": [
    "plt.hist(df[\"first_blood_time\"])"
   ]
  },
  {
   "cell_type": "code",
   "execution_count": 132,
   "id": "20492825",
   "metadata": {},
   "outputs": [
    {
     "data": {
      "image/png": "[encoded data removed]",
      "text/plain": [
       "<Figure size 432x288 with 1 Axes>"
      ]
     },
     "metadata": {
      "needs_background": "light"
     },
     "output_type": "display_data"
    }
   ],
   "source": [
    "plt.hist(df[\"radiant_tpscroll_count\"], bins=100);"
   ]
  },
  {
   "cell_type": "markdown",
   "id": "95bb3e80",
   "metadata": {},
   "source": [
    "Посмотрим, как влияют отдельные признаки на итог матча."
   ]
  },
  {
   "cell_type": "code",
   "execution_count": 133,
   "id": "7ab78f29",
   "metadata": {
    "scrolled": true
   },
   "outputs": [
    {
     "data": {
      "text/plain": [
       "<AxesSubplot:xlabel='first_blood_team', ylabel='count'>"
      ]
     },
     "execution_count": 133,
     "metadata": {},
     "output_type": "execute_result"
    },
    {
     "data": {
      "image/png": "[encoded data removed]",
      "text/plain": [
       "<Figure size 432x288 with 1 Axes>"
      ]
     },
     "metadata": {
      "needs_background": "light"
     },
     "output_type": "display_data"
    }
   ],
   "source": [
    "sns.countplot(x='first_blood_team', hue='radiant_win', data=df)"
   ]
  },
  {
   "cell_type": "markdown",
   "id": "cf45e9aa",
   "metadata": {},
   "source": [
    "Из графика выше видно, что частота выигрыша выше у команды с \"первой кровью\"."
   ]
  },
  {
   "cell_type": "code",
   "execution_count": 134,
   "id": "f0b85d1b",
   "metadata": {
    "scrolled": true
   },
   "outputs": [
    {
     "data": {
      "text/plain": [
       "<AxesSubplot:xlabel='radiant_tpscroll_count', ylabel='count'>"
      ]
     },
     "execution_count": 134,
     "metadata": {},
     "output_type": "execute_result"
    },
    {
     "data": {
      "image/png": "[encoded data removed]",
      "text/plain": [
       "<Figure size 432x288 with 1 Axes>"
      ]
     },
     "metadata": {
      "needs_background": "light"
     },
     "output_type": "display_data"
    }
   ],
   "source": [
    "sns.countplot(x='radiant_tpscroll_count',hue='radiant_win', data=df)"
   ]
  },
  {
   "cell_type": "markdown",
   "id": "4bab0010",
   "metadata": {},
   "source": [
    "radiant_tpscroll_count: число предметов \"tpscroll\" за первые 5 минут. Можно заметить, что графики напоминают Пуассоновское распределение. Из графика видно, если radiant приобретают за первые 5 минут игры до 4 предметов \"tpscroll\", то их шансы на победу несколько выше, чем у другой команды. Аналогичный график выглядит для dire_tpscroll_count, следовательно, если команда купила данного товара менее 4 штук, то статистически у нее больше шансов на победу"
   ]
  },
  {
   "cell_type": "markdown",
   "id": "aa65d8e0",
   "metadata": {},
   "source": [
    "## Проверка на пропуски в данных"
   ]
  },
  {
   "cell_type": "code",
   "execution_count": 135,
   "id": "e74d4afa",
   "metadata": {},
   "outputs": [
    {
     "data": {
      "text/plain": [
       "first_blood_player2            0.452402\n",
       "radiant_flying_courier_time    0.282619\n",
       "dire_flying_courier_time       0.268415\n",
       "first_blood_time               0.201100\n",
       "first_blood_team               0.201100\n",
       "first_blood_player1            0.201100\n",
       "dire_bottle_time               0.166029\n",
       "radiant_bottle_time            0.161380\n",
       "radiant_first_ward_time        0.018883\n",
       "dire_first_ward_time           0.018780\n",
       "radiant_courier_time           0.007117\n",
       "dire_courier_time              0.006953\n",
       "dtype: float64"
      ]
     },
     "execution_count": 135,
     "metadata": {},
     "output_type": "execute_result"
    }
   ],
   "source": [
    "count_na = len(df) - df.count()  # список количества пропусков по различным признакам\n",
    "count_na[count_na > 0].sort_values(ascending=False) / len(df)  # вычисление частоты и сортировка по убыванию"
   ]
  },
  {
   "cell_type": "markdown",
   "id": "f848e44e",
   "metadata": {},
   "source": [
    "* first_blood_player2 - 45 % пропусков. Обуславливается тем, что first_blood не было в первые 5 минут игры.  \n",
    "* radiant_flying_courier_time (dire_flying_courier_time) - в 28 % (26.8 %) случаев товар не покупается за первые 5 минут игры.  \n",
    "* first_blood_time - 20 % пропусков. Обуславливается тем, что в 20 % случаев на first_blood уходит более 5 минут.  \n",
    "* first_blood_team - 20 % пропусков, так же как и в first_blood_time.  \n",
    "* first_blood_player1 - 20 % пропусков, так же как и в first_blood_time.  \n",
    "* dire_bottle_time (radiant_bottle_time) - 16.7 % (16.1 %) пропусков. За первые 5 минут bottle не покупается в 16.7 % (16.1 %) случаев.  \n",
    "* radiant_first_ward_time (radiant_courier_time) - 1.8 % пропусков. В 1.8 % случаев ward не ставится в первые 5 минут.\n",
    "* radiant_courier_time (dire_courier_time) - 0.7 % пропусков. В 0.7 % случаев courier не покупается.\n",
    "* в остальных признаках пропусков нет."
   ]
  },
  {
   "cell_type": "markdown",
   "id": "e7d9a0d1",
   "metadata": {},
   "source": [
    "Заполним пропуски в данных на нулевые значения и выкинем из датасета те признаки, которые позволяют \"заглянуть в будущее\" матча, и следовательно, приведут к эффекту переобучения"
   ]
  },
  {
   "cell_type": "code",
   "execution_count": 55,
   "id": "4e1ff59d",
   "metadata": {},
   "outputs": [],
   "source": [
    "df.drop([\n",
    "    \"duration\",\n",
    "    \"tower_status_radiant\",\n",
    "    \"tower_status_dire\",\n",
    "    \"barracks_status_radiant\",\n",
    "    \"barracks_status_dire\",\n",
    "], axis=1, inplace=True)"
   ]
  },
  {
   "cell_type": "code",
   "execution_count": 56,
   "id": "787757b8",
   "metadata": {},
   "outputs": [],
   "source": [
    "df.fillna(0, inplace=True)"
   ]
  },
  {
   "cell_type": "markdown",
   "id": "11666a2a",
   "metadata": {},
   "source": [
    "* Для логистической регрессии наиболее предпочтительнее является замена пропусков нулями, так как пропущенные значения не будут влиять на предсказание.    \n",
    "* Для деревьев предпочтительнее является замена пропусков крайне большими или крайне низкими значениями, это приведет к выделению в отдельную ветку объектов с пропусками.  \n",
    "* Существуют другие способы борьбы с пропусками: замена на среднее, мединное значение или удаление объектов с пропусками из выборки.  \n",
    "\n",
    "В данной работе для всех методов использовалась техника замены пропусков на нулевые значения"
   ]
  },
  {
   "cell_type": "markdown",
   "id": "e9377bd5",
   "metadata": {},
   "source": [
    "Отделим матрицу объекты-признаки и вектор ответов:"
   ]
  },
  {
   "cell_type": "code",
   "execution_count": 57,
   "id": "2ee2f528",
   "metadata": {},
   "outputs": [],
   "source": [
    "X_train = df.drop(\"radiant_win\", axis=1)\n",
    "y_train = df[\"radiant_win\"]"
   ]
  },
  {
   "cell_type": "markdown",
   "id": "33d6d8c0",
   "metadata": {},
   "source": [
    "# Градиентный бустинг"
   ]
  },
  {
   "cell_type": "markdown",
   "id": "2504b8b6",
   "metadata": {},
   "source": [
    "Будем использовать кросс-валидацию по 5-ти блокам с перемешиванием (shuffle=True)."
   ]
  },
  {
   "cell_type": "code",
   "execution_count": 139,
   "id": "3e40f901",
   "metadata": {},
   "outputs": [],
   "source": [
    "cv = KFold(n_splits=5, shuffle=True)"
   ]
  },
  {
   "cell_type": "code",
   "execution_count": 122,
   "id": "e613977b",
   "metadata": {},
   "outputs": [
    {
     "name": "stdout",
     "output_type": "stream",
     "text": [
      "n = 1\n",
      "score =  0.5949428103970147\n",
      "time:  0:00:04.243297 \n",
      "\n",
      "n = 2\n",
      "score =  0.6101524765684168\n",
      "time:  0:00:07.828822 \n",
      "\n",
      "n = 4\n",
      "score =  0.6274441686253021\n",
      "time:  0:00:15.290887 \n",
      "\n",
      "n = 8\n",
      "score =  0.6575961363771674\n",
      "time:  0:00:29.931828 \n",
      "\n",
      "n = 16\n",
      "score =  0.6779531118136995\n",
      "time:  0:00:59.849773 \n",
      "\n",
      "n = 32\n",
      "score =  0.6906379311653914\n",
      "time:  0:01:59.661435 \n",
      "\n",
      "n = 64\n",
      "score =  0.701215131910532\n",
      "time:  0:03:59.343580 \n",
      "\n",
      "n = 128\n",
      "score =  0.7093229593339576\n",
      "time:  0:07:58.682482 \n",
      "\n",
      "n = 256\n",
      "score =  0.7164673745817715\n",
      "time:  0:15:29.024693 \n",
      "\n"
     ]
    }
   ],
   "source": [
    "scores = []\n",
    "ns = [1,2,4,8,16,32,64,128,256]\n",
    "for n in ns:\n",
    "    time1 = datetime.datetime.now()\n",
    "    print(\"n =\", n)\n",
    "    model = GradientBoostingClassifier(n_estimators=n)\n",
    "    score = cross_val_score(model, X_train, y_train, cv=cv, scoring='roc_auc').mean()\n",
    "    scores.append(score)\n",
    "    print(\"score = \", score)\n",
    "    time2 = datetime.datetime.now()\n",
    "    print(\"time: \", str(time2 - time1), \"\\n\")"
   ]
  },
  {
   "cell_type": "code",
   "execution_count": 123,
   "id": "9400173e",
   "metadata": {},
   "outputs": [
    {
     "data": {
      "image/png": "[encoded data removed]",
      "text/plain": [
       "<Figure size 432x288 with 1 Axes>"
      ]
     },
     "metadata": {
      "needs_background": "light"
     },
     "output_type": "display_data"
    }
   ],
   "source": [
    "plt.plot(ns, scores)\n",
    "plt.xlabel(\"n\")\n",
    "plt.ylabel(\"AUC-ROC\")\n",
    "plt.grid()"
   ]
  },
  {
   "cell_type": "markdown",
   "id": "3b2e9e55",
   "metadata": {},
   "source": [
    "Из графика видно, что функция при увеличении n (количества деревьев в градиентном бустинге) замедляет рост, при увеличении числа деревьев до 1000 или до 2000 значение метрики было бы 73-74 %, но для этого пришлось бы ждать ~ 1-2 часа."
   ]
  },
  {
   "cell_type": "markdown",
   "id": "fdf9fbfb",
   "metadata": {},
   "source": [
    "Для ускорения метода можно было бы ограничить максимальную глубину деревьев или обучаться на выборке меньшего размера"
   ]
  },
  {
   "cell_type": "markdown",
   "id": "d3bf6539",
   "metadata": {},
   "source": [
    "# Логистическая регрессия"
   ]
  },
  {
   "cell_type": "markdown",
   "id": "b47d50c4",
   "metadata": {},
   "source": [
    "Рассмотрим модель логистической регрессии на всех данных (включая категориальные). При этом проведем кросс-валидацию по значению параметра регуляризации"
   ]
  },
  {
   "cell_type": "code",
   "execution_count": 275,
   "id": "2453a6bd",
   "metadata": {},
   "outputs": [],
   "source": [
    "X_train = StandardScaler().fit_transform(X_train)"
   ]
  },
  {
   "cell_type": "code",
   "execution_count": 166,
   "id": "844b26a0",
   "metadata": {},
   "outputs": [
    {
     "name": "stdout",
     "output_type": "stream",
     "text": [
      "с = 1e-05\n",
      "score =  0.6951123612404949\n",
      "time:  0:00:02.493493 \n",
      "\n",
      "с = 0.0001\n",
      "score =  0.711218995539846\n",
      "time:  0:00:02.001518 \n",
      "\n",
      "с = 0.001\n",
      "score =  0.7161787436895245\n",
      "time:  0:00:03.794763 \n",
      "\n",
      "с = 0.01\n",
      "score =  0.7162523586955885\n",
      "time:  0:00:04.759260 \n",
      "\n",
      "с = 0.1\n",
      "score =  0.7165202132137741\n",
      "time:  0:00:04.745341 \n",
      "\n",
      "с = 1\n",
      "score =  0.7163127367495672\n",
      "time:  0:00:05.152277 \n",
      "\n",
      "с = 10\n",
      "score =  0.716469023302449\n",
      "time:  0:00:05.127257 \n",
      "\n",
      "с = 100\n",
      "score =  0.7163794518340204\n",
      "time:  0:00:05.048785 \n",
      "\n",
      "с = 1000\n",
      "score =  0.7164750958962124\n",
      "time:  0:00:05.007788 \n",
      "\n",
      "с = 10000\n",
      "score =  0.716189946299956\n",
      "time:  0:00:04.946919 \n",
      "\n"
     ]
    }
   ],
   "source": [
    "scores = []\n",
    "cs = [10**i for i in range(-5,5,1)]\n",
    "for c in cs:\n",
    "    time1 = datetime.datetime.now()\n",
    "    print(\"с =\", c)\n",
    "    model = LogisticRegression(C=c)\n",
    "    score = cross_val_score(model, X_train, y_train, cv=cv, scoring='AUC-ROC').mean()\n",
    "    scores.append(score)\n",
    "    print(\"score = \", score)\n",
    "    time2 = datetime.datetime.now()\n",
    "    print(\"time: \", str(time2 - time1), \"\\n\")"
   ]
  },
  {
   "cell_type": "code",
   "execution_count": 167,
   "id": "c0065165",
   "metadata": {},
   "outputs": [
    {
     "data": {
      "image/png": "[encoded data removed]",
      "text/plain": [
       "<Figure size 432x288 with 1 Axes>"
      ]
     },
     "metadata": {
      "needs_background": "light"
     },
     "output_type": "display_data"
    }
   ],
   "source": [
    "plt.plot(range(-5,5,1), scores)\n",
    "plt.xlabel(\"c\")\n",
    "plt.ylabel(\"AUC-ROC\")\n",
    "plt.grid()"
   ]
  },
  {
   "cell_type": "code",
   "execution_count": 168,
   "id": "c1791cd0",
   "metadata": {},
   "outputs": [
    {
     "name": "stdout",
     "output_type": "stream",
     "text": [
      "0.7165202132137741\n",
      "Наилучшее значение с = 0.1\n"
     ]
    }
   ],
   "source": [
    "print(max(scores))\n",
    "print(\"Наилучшее значение с =\",0.1)"
   ]
  },
  {
   "cell_type": "markdown",
   "id": "af03a72a",
   "metadata": {},
   "source": [
    "Удалось достичь значения 0.7165 по AUC-ROC данное значение немного меньше, чем в градиентном бустинге, однако обучение модули произошло в ~ 250 раз быстрее это достигается за счет того, что линейные методы работают быстрее."
   ]
  },
  {
   "cell_type": "markdown",
   "id": "c4a0b3a7",
   "metadata": {},
   "source": [
    "## Логистическая регрессия без категориальных признаков"
   ]
  },
  {
   "cell_type": "markdown",
   "id": "409c0e84",
   "metadata": {},
   "source": [
    "У предыдущей модели был существенный недостаток - датасет включал категориальные признаки, модель обучалась на них, но логистическая регрессия плохо работает с такими признаки, поэтому в следующей модели исключим их из воборки и посмотрим как это повлияет на значение метрики."
   ]
  },
  {
   "cell_type": "code",
   "execution_count": 222,
   "id": "3f665f45",
   "metadata": {},
   "outputs": [],
   "source": [
    "df = pd.read_csv(\"./src/data/features.csv\", index_col=\"match_id\")\n",
    "df.drop([\n",
    "    \"duration\",\n",
    "    \"tower_status_radiant\",\n",
    "    \"tower_status_dire\",\n",
    "    \"barracks_status_radiant\",\n",
    "    \"barracks_status_dire\",\n",
    "    \"r1_hero\",\n",
    "    \"r2_hero\",\n",
    "    \"r3_hero\",\n",
    "    \"r4_hero\",\n",
    "    \"r5_hero\",\n",
    "    \"d1_hero\",\n",
    "    \"d2_hero\",\n",
    "    \"d3_hero\",\n",
    "    \"d4_hero\",\n",
    "    \"d5_hero\",\n",
    "    \"lobby_type\",\n",
    "], axis=1, inplace=True)\n",
    "df.fillna(0, inplace=True)\n",
    "y_train = df[\"radiant_win\"]\n",
    "X_train = df.drop([\"radiant_win\"], axis=1)\n",
    "X_train = StandardScaler().fit_transform(X_train)"
   ]
  },
  {
   "cell_type": "code",
   "execution_count": 334,
   "id": "08e3b510",
   "metadata": {},
   "outputs": [
    {
     "name": "stdout",
     "output_type": "stream",
     "text": [
      "c = 1e-05\n",
      "score =  0.6950491860225302\n",
      "time:  0:00:02.136370 \n",
      "\n",
      "c = 0.0001\n",
      "score =  0.7111761802754375\n",
      "time:  0:00:02.077134 \n",
      "\n",
      "c = 0.001\n",
      "score =  0.7162966645155926\n",
      "time:  0:00:03.558279 \n",
      "\n",
      "c = 0.01\n",
      "score =  0.7165796342141715\n",
      "time:  0:00:04.458192 \n",
      "\n",
      "c = 0.1\n",
      "score =  0.716448810715135\n",
      "time:  0:00:04.528776 \n",
      "\n",
      "c = 1\n",
      "score =  0.7165965382706967\n",
      "time:  0:00:04.447099 \n",
      "\n",
      "c = 10\n",
      "score =  0.7164275264135043\n",
      "time:  0:00:04.499036 \n",
      "\n",
      "c = 100\n",
      "score =  0.7165702803508898\n",
      "time:  0:00:04.810460 \n",
      "\n",
      "c = 1000\n",
      "score =  0.7164129282464565\n",
      "time:  0:00:04.683660 \n",
      "\n",
      "c = 10000\n",
      "score =  0.7164286859894101\n",
      "time:  0:00:04.749825 \n",
      "\n"
     ]
    }
   ],
   "source": [
    "scores = []\n",
    "cs = [10**i for i in range(-5,5,1)]\n",
    "for c in cs:\n",
    "    time1 = datetime.datetime.now()\n",
    "    print(\"c =\", c)\n",
    "    model = LogisticRegression(C=c)\n",
    "    score = cross_val_score(model, X_train, y_train, cv=cv, scoring='roc_auc').mean()\n",
    "    scores.append(score)\n",
    "    print(\"score = \", score)\n",
    "    time2 = datetime.datetime.now()\n",
    "    print(\"time: \", str(time2 - time1), \"\\n\")"
   ]
  },
  {
   "cell_type": "code",
   "execution_count": 335,
   "id": "8fd1cbfc",
   "metadata": {},
   "outputs": [
    {
     "data": {
      "image/png": "[encoded data removed]",
      "text/plain": [
       "<Figure size 432x288 with 1 Axes>"
      ]
     },
     "metadata": {
      "needs_background": "light"
     },
     "output_type": "display_data"
    }
   ],
   "source": [
    "plt.plot(range(-5,5,1), scores)\n",
    "plt.xlabel(\"c\")\n",
    "plt.ylabel(\"AUC-ROC\")\n",
    "plt.grid()"
   ]
  },
  {
   "cell_type": "code",
   "execution_count": 337,
   "id": "5a427ebe",
   "metadata": {},
   "outputs": [
    {
     "name": "stdout",
     "output_type": "stream",
     "text": [
      "0.7165965382706967\n",
      "Наилучшее значение с = 1\n"
     ]
    }
   ],
   "source": [
    "print(max(scores))\n",
    "print(\"Наилучшее значение с =\",1)"
   ]
  },
  {
   "cell_type": "markdown",
   "id": "99090efa",
   "metadata": {},
   "source": [
    "Как видим удаление категориальных признаков не привело к изменению метрики качества, это можно объяснить тем, что модель распознала шум."
   ]
  },
  {
   "cell_type": "markdown",
   "id": "e081e670",
   "metadata": {},
   "source": [
    "## Ценность категориальных признаков в данной задаче"
   ]
  },
  {
   "cell_type": "markdown",
   "id": "45185a1b",
   "metadata": {},
   "source": [
    "На предыдущем шаге мы исключили из выборки признаки rM_hero и dM_hero, которые показывают, какие именно герои играли за каждую команду. Это важные признаки - герои имеют разные характеристики, и некоторые из них выигрывают чаще, чем другие."
   ]
  },
  {
   "cell_type": "code",
   "execution_count": 8,
   "id": "01d66501",
   "metadata": {},
   "outputs": [
    {
     "name": "stdout",
     "output_type": "stream",
     "text": [
      "Уникальных героев: 108\n",
      "В одной игре 10 уникальных героев\n",
      "Max ID = 112\n"
     ]
    }
   ],
   "source": [
    "unique_heroes = np.unique(df[[\n",
    "    \"r1_hero\",\n",
    "    \"r2_hero\",\n",
    "    \"r3_hero\",\n",
    "    \"r4_hero\",\n",
    "    \"r5_hero\",\n",
    "    \"d1_hero\",\n",
    "    \"d2_hero\",\n",
    "    \"d3_hero\",\n",
    "    \"d4_hero\",\n",
    "    \"d5_hero\",\n",
    "]].values.ravel())\n",
    "print(\"Уникальных героев:\", len(unique_heroes))\n",
    "print(\"В одной игре 10 уникальных героев\")\n",
    "print(\"Max ID =\", max(unique_heroes))"
   ]
  },
  {
   "cell_type": "markdown",
   "id": "ce72e985",
   "metadata": {},
   "source": [
    "## Воспользуемся подходом \"мешок слов\" для кодирования информации о героях."
   ]
  },
  {
   "cell_type": "markdown",
   "id": "efbb42e9",
   "metadata": {},
   "source": [
    "Пусть всего в игре имеется N различных героев. Сформируем N признаков, при этом i-й будет равен нулю, если i-й герой не участвовал в матче; единице, если i-й герой играл за команду Radiant; минус единице, если i-й герой играл за команду Dire. При этом в одном матче не могут быть 2-х разных игроков с одинаковыми героями."
   ]
  },
  {
   "cell_type": "code",
   "execution_count": 44,
   "id": "0f6f7090",
   "metadata": {},
   "outputs": [],
   "source": [
    "N = len(unique_heroes)\n",
    "X = np.zeros((df.shape[0], max(unique_heroes)))\n",
    "for i, match_id in enumerate(df.index):\n",
    "    for hero_id in range(5): # for all heros\n",
    "        X[i, df.loc[match_id, 'r%d_hero' % (hero_id + 1)] - 1] = 1\n",
    "        X[i, df.loc[match_id, 'd%d_hero' % (hero_id + 1)] - 1] = -1"
   ]
  },
  {
   "cell_type": "code",
   "execution_count": 68,
   "id": "eba092dd",
   "metadata": {},
   "outputs": [],
   "source": [
    "df.drop([\n",
    "    \"lobby_type\",\n",
    "    \"r1_hero\",\n",
    "    \"r2_hero\",\n",
    "    \"r3_hero\",\n",
    "    \"r4_hero\",\n",
    "    \"r5_hero\",\n",
    "    \"d1_hero\",\n",
    "    \"d2_hero\",\n",
    "    \"d3_hero\",\n",
    "    \"d4_hero\",\n",
    "    \"d5_hero\",\n",
    "],axis = 1, inplace = True)"
   ]
  },
  {
   "cell_type": "code",
   "execution_count": 69,
   "id": "07bd28b8",
   "metadata": {},
   "outputs": [],
   "source": [
    "X_train = np.hstack((df.values, X))"
   ]
  },
  {
   "cell_type": "code",
   "execution_count": 70,
   "id": "9f96e3a1",
   "metadata": {},
   "outputs": [],
   "source": [
    "X_train = StandardScaler().fit_transform(X_train)"
   ]
  },
  {
   "cell_type": "code",
   "execution_count": 214,
   "id": "46781e71",
   "metadata": {},
   "outputs": [
    {
     "name": "stdout",
     "output_type": "stream",
     "text": [
      "с = 1e-05\n",
      "score =  0.7148340605898584\n",
      "time:  0:00:02.082909 \n",
      "\n",
      "с = 0.0001\n",
      "score =  0.7427043031323926\n",
      "time:  0:00:02.455098 \n",
      "\n",
      "с = 0.001\n",
      "score =  0.7514374526568861\n",
      "time:  0:00:04.871962 \n",
      "\n",
      "с = 0.01\n",
      "score =  0.7517832181347623\n",
      "time:  0:00:06.944595 \n",
      "\n",
      "с = 0.1\n",
      "score =  0.7519512329930921\n",
      "time:  0:00:08.229987 \n",
      "\n",
      "с = 1\n",
      "score =  0.7518565664263381\n",
      "time:  0:00:07.826936 \n",
      "\n",
      "с = 10\n",
      "score =  0.7520934775236281\n",
      "time:  0:00:08.389247 \n",
      "\n",
      "с = 100\n",
      "score =  0.7519386229900586\n",
      "time:  0:00:07.909559 \n",
      "\n",
      "с = 1000\n",
      "score =  0.751975404686901\n",
      "time:  0:00:08.188655 \n",
      "\n",
      "с = 10000\n",
      "score =  0.7517459573322497\n",
      "time:  0:00:08.042154 \n",
      "\n"
     ]
    }
   ],
   "source": [
    "scores = []\n",
    "cs = [10**i for i in range(-5,5,1)]\n",
    "for c in cs:\n",
    "    time1 = datetime.datetime.now()\n",
    "    print(\"с =\", c)\n",
    "    model = LogisticRegression(C=c)\n",
    "    score = cross_val_score(model, X_train, y_train, cv=cv, scoring='roc_auc').mean()\n",
    "    scores.append(score)\n",
    "    print(\"score = \", score)\n",
    "    time2 = datetime.datetime.now()\n",
    "    print(\"time: \", str(time2 - time1), \"\\n\")"
   ]
  },
  {
   "cell_type": "code",
   "execution_count": 216,
   "id": "2901c8f9",
   "metadata": {},
   "outputs": [
    {
     "data": {
      "image/png": "[encoded data removed]",
      "text/plain": [
       "<Figure size 432x288 with 1 Axes>"
      ]
     },
     "metadata": {
      "needs_background": "light"
     },
     "output_type": "display_data"
    }
   ],
   "source": [
    "plt.plot(range(-5,5,1), scores)\n",
    "plt.xlabel(\"c\")\n",
    "plt.ylabel(\"AUC-ROC\")\n",
    "plt.grid()"
   ]
  },
  {
   "cell_type": "markdown",
   "id": "d0826ce4",
   "metadata": {},
   "source": [
    "С добавлением мешка слов значение AUC-ROC существенно увеличелось, при c=10 ROC-AUC = 0.752. Из значения данной метрики следует, что модель хорошо описывается линейными методами"
   ]
  },
  {
   "cell_type": "markdown",
   "id": "59fa1961",
   "metadata": {},
   "source": [
    "## Своя реализация логистической регрессии"
   ]
  },
  {
   "cell_type": "code",
   "execution_count": 52,
   "id": "0c415071",
   "metadata": {},
   "outputs": [],
   "source": [
    "class MyLogisticRegression:\n",
    "    def __init__(self, step=1e-1, n_iter=100):\n",
    "        self.step = step\n",
    "        self.n_iter = n_iter\n",
    "\n",
    "    def logistic_function(self, z):\n",
    "        return 1 / (1 + np.exp(-z))\n",
    "\n",
    "    def fit(self, X, Y):\n",
    "        x = np.hstack((np.ones((X.shape[0], 1)), X))\n",
    "        self._weights = np.zeros(x.shape[1])\n",
    "        for i in range(self.n_iter):\n",
    "            z = np.dot(x, self._weights)\n",
    "            gradient = np.dot(x.T, self.logistic_function(z) - Y) / Y.size\n",
    "            self._weights -= self.step * gradient\n",
    "\n",
    "    def predict(self, X):\n",
    "        x = np.array([X])\n",
    "        x = np.hstack((np.ones((x.shape[0], 1)), x))\n",
    "        return self.logistic_function(np.dot(x, self._weights)).round()\n",
    "\n",
    "    def score(self, features, y):\n",
    "        TP = TN = FP = FN = 0\n",
    "        right_predict_number = 0\n",
    "        r_m = min(len(y), features.shape[0])\n",
    "        for i in range(r_m):\n",
    "            pred = self.predict(features[i])\n",
    "            if y[i] == 1:\n",
    "                if pred == 1:\n",
    "                    TP += 1\n",
    "                else:\n",
    "                    FN += 1\n",
    "            else:\n",
    "                if pred == 1:\n",
    "                    FP += 1\n",
    "                else:\n",
    "                    TN += 1\n",
    "        recall = TP / (TP + FN)\n",
    "        precision = TP / (TP + FP)\n",
    "        accuracy = (TP + TN) / (TP + TN + FP + FN)\n",
    "        return {'recall': recall, 'precision': precision, 'accuracy': accuracy}"
   ]
  },
  {
   "cell_type": "code",
   "execution_count": 60,
   "id": "b7934bd5",
   "metadata": {},
   "outputs": [
    {
     "name": "stdout",
     "output_type": "stream",
     "text": [
      "my implementation LR:  {'recall': 0.6863172928154878, 'precision': 0.6609107579462102, 'accuracy': 0.6547773320991463}\n"
     ]
    }
   ],
   "source": [
    "y_train = np.array(y_train)\n",
    "X_train = np.array(X_train)\n",
    "model = MyLogisticRegression()\n",
    "model.fit(X_train, y_train)\n",
    "print('my implementation LR: ', model.score(X_train, y_train))"
   ]
  },
  {
   "cell_type": "markdown",
   "id": "578faae0",
   "metadata": {},
   "source": [
    "## Построим предсказание вероятностей победы команды Radiant"
   ]
  },
  {
   "cell_type": "code",
   "execution_count": 376,
   "id": "1edc1448",
   "metadata": {},
   "outputs": [],
   "source": [
    "# data prepare\n",
    "df = pd.read_csv(\"./src/data/features.csv\", index_col=\"match_id\")\n",
    "df.drop([\n",
    "    \"duration\",\n",
    "    \"tower_status_radiant\",\n",
    "    \"tower_status_dire\",\n",
    "    \"barracks_status_radiant\",\n",
    "    \"barracks_status_dire\",\n",
    "    'radiant_win',\n",
    "], axis=1, inplace=True)\n",
    "df.fillna(0, inplace=True)\n",
    "\n",
    "heros = [\n",
    "    \"r1_hero\",\n",
    "    \"r2_hero\",\n",
    "    \"r3_hero\",\n",
    "    \"r4_hero\",\n",
    "    \"r5_hero\",\n",
    "    \"d1_hero\",\n",
    "    \"d2_hero\",\n",
    "    \"d3_hero\",\n",
    "    \"d4_hero\",\n",
    "    \"d5_hero\",\n",
    "]\n",
    "\n",
    "unique_heroes = np.unique(df[heros].values.ravel())\n",
    "N = len(unique_heroes)\n",
    "X = np.zeros((df.shape[0], max(unique_heroes)))\n",
    "for i, match_id in enumerate(df.index):\n",
    "    for hero_id in range(5): # for all heros\n",
    "        X[i, df.loc[match_id, 'r%d_hero' % (hero_id + 1)] - 1] = 1\n",
    "        X[i, df.loc[match_id, 'd%d_hero' % (hero_id + 1)] - 1] = -1\n",
    "df.drop(heros + ['lobby_type'], axis=1, inplace=True)\n",
    "X_train = np.hstack((df.values, X))\n",
    "X_train = StandardScaler().fit_transform(X_train)\n",
    "\n",
    "\n",
    "# data test prepare\n",
    "df_test = pd.read_csv('./src/data/features_test.csv',index_col='match_id')\n",
    "df_test.fillna(0,inplace = True)\n",
    "\n",
    "X = np.zeros((df_test.shape[0], max(unique_heroes)))\n",
    "for i, match_id in enumerate(df_test.index):\n",
    "    for hero_id in range(5): # for all heros\n",
    "        X[i, df_test.loc[match_id, 'r%d_hero' % (hero_id + 1)] - 1] = 1\n",
    "        X[i, df_test.loc[match_id, 'd%d_hero' % (hero_id + 1)] - 1] = -1        \n",
    "df_test.drop(heros + ['lobby_type'], axis=1, inplace=True)\n",
    "X_test = np.hstack((df_test.values, X))\n",
    "X_test = StandardScaler().fit_transform(X_test)"
   ]
  },
  {
   "cell_type": "code",
   "execution_count": 227,
   "id": "728e2a99",
   "metadata": {},
   "outputs": [
    {
     "data": {
      "text/plain": [
       "LogisticRegression(C=10)"
      ]
     },
     "execution_count": 227,
     "metadata": {},
     "output_type": "execute_result"
    }
   ],
   "source": [
    "model = LogisticRegression(C=10)\n",
    "model.fit(X_train, y_train)"
   ]
  },
  {
   "cell_type": "code",
   "execution_count": 228,
   "id": "8ab4fc62",
   "metadata": {},
   "outputs": [],
   "source": [
    "pred = model.predict_proba(X_test)"
   ]
  },
  {
   "cell_type": "code",
   "execution_count": 230,
   "id": "ce2c4da0",
   "metadata": {
    "scrolled": true
   },
   "outputs": [
    {
     "name": "stdout",
     "output_type": "stream",
     "text": [
      "[[0.1750309  0.8249691 ]\n",
      " [0.24143025 0.75856975]\n",
      " [0.81297053 0.18702947]\n",
      " ...\n",
      " [0.76885311 0.23114689]\n",
      " [0.36797371 0.63202629]\n",
      " [0.57402582 0.42597418]]\n"
     ]
    }
   ],
   "source": [
    "print(pred)"
   ]
  },
  {
   "cell_type": "markdown",
   "id": "12c74b0d",
   "metadata": {},
   "source": [
    "Уберем лишний столбец"
   ]
  },
  {
   "cell_type": "code",
   "execution_count": 231,
   "id": "122ea124",
   "metadata": {},
   "outputs": [],
   "source": [
    "pred = [pred[i][1] for i in range(0,len(pred))]"
   ]
  },
  {
   "cell_type": "markdown",
   "id": "625f744d",
   "metadata": {},
   "source": [
    "Выведем граничные значения, убедимся, что они лежат в отрезке [0,1]"
   ]
  },
  {
   "cell_type": "code",
   "execution_count": 342,
   "id": "4cbc940f",
   "metadata": {},
   "outputs": [
    {
     "name": "stdout",
     "output_type": "stream",
     "text": [
      "max pred = 0.9964864194103671\n",
      "min pred = 0.008694489660680121\n"
     ]
    }
   ],
   "source": [
    "print(\"max pred =\", max(pred))\n",
    "print(\"min pred =\", min(pred))"
   ]
  },
  {
   "cell_type": "markdown",
   "id": "3a812d73",
   "metadata": {},
   "source": [
    "Построим гистограмму точности прогнозов"
   ]
  },
  {
   "cell_type": "code",
   "execution_count": 343,
   "id": "d2ea9930",
   "metadata": {},
   "outputs": [
    {
     "data": {
      "text/plain": [
       "(array([ 420., 1177., 1785., 2265., 2425., 2504., 2461., 2076., 1541.,\n",
       "         523.]),\n",
       " array([0.00869449, 0.10747368, 0.20625288, 0.30503207, 0.40381126,\n",
       "        0.50259045, 0.60136965, 0.70014884, 0.79892803, 0.89770723,\n",
       "        0.99648642]),\n",
       " <BarContainer object of 10 artists>)"
      ]
     },
     "execution_count": 343,
     "metadata": {},
     "output_type": "execute_result"
    },
    {
     "data": {
      "image/png": "[encoded data removed]",
      "text/plain": [
       "<Figure size 432x288 with 1 Axes>"
      ]
     },
     "metadata": {
      "needs_background": "light"
     },
     "output_type": "display_data"
    }
   ],
   "source": [
    "plt.hist(pred)"
   ]
  },
  {
   "cell_type": "markdown",
   "id": "1e7919e2",
   "metadata": {},
   "source": [
    "В данной задаче логистическая регрессия с мешком слов для категориальных признаков дает более лучшее значение метрики, чем градиентный бустинг. Причем логистическая регрессия работает существенно быстрее 8 секунд, против 15.5 минут. Скорость работы обуславливается тем, что линейные методы обучаются гораздо быстрее. Точность можно объяснить тем, что данный набор данных хорошо описывается линейными моделями."
   ]
  },
  {
   "cell_type": "markdown",
   "id": "0a46f767",
   "metadata": {},
   "source": [
    "Создадим файл для kaggle-соревнования"
   ]
  },
  {
   "cell_type": "code",
   "execution_count": 245,
   "id": "022eeb05",
   "metadata": {},
   "outputs": [],
   "source": [
    "pd.DataFrame(\n",
    "    data = pred,\n",
    "    index = df_test.index,\n",
    "    columns=['radiant_win']\n",
    ").to_csv('kaggle.csv')"
   ]
  },
  {
   "cell_type": "markdown",
   "id": "0c381f97",
   "metadata": {},
   "source": [
    "kaggle score = 0.75522"
   ]
  },
  {
   "cell_type": "markdown",
   "id": "6a6db843",
   "metadata": {},
   "source": [
    "# Метод k-ближайших соседей"
   ]
  },
  {
   "cell_type": "markdown",
   "id": "f350ab03",
   "metadata": {},
   "source": [
    "Рассмортим метод k-ближайших соседей. Данный метод метрический, поэтому введем метрику расстояния:"
   ]
  },
  {
   "cell_type": "code",
   "execution_count": 149,
   "id": "0360527f",
   "metadata": {},
   "outputs": [],
   "source": [
    "def euclidean_norma(a, b):\n",
    "    return sum([(x - y) ** 2 for x, y in zip(a, b)]) ** 0.5"
   ]
  },
  {
   "cell_type": "code",
   "execution_count": 158,
   "id": "82b428fe",
   "metadata": {},
   "outputs": [],
   "source": [
    "class KNN:\n",
    "    def __init__(self, X, y):\n",
    "        self.X = X\n",
    "        self.y = y\n",
    "    \n",
    "    def predict(self, object_pred, k, metric):\n",
    "        ns = np.zeros((self.X.shape[0], 2))\n",
    "        for i in range(self.X.shape[0]):\n",
    "            ns[i] = (metric(object_pred, self.X[i]), self.y[i])\n",
    "        sorted_ns = sorted(ns, key=lambda x: x[0])[:k]\n",
    "        cnt_0, cnt_1 = 0, 0\n",
    "        for _, y in sorted_ns:\n",
    "            if y == 1:\n",
    "                cnt_1 += 1\n",
    "            else:\n",
    "                cnt_0 += 1\n",
    "        return 1 if cnt_1 > cnt_0 else 0\n",
    "    \n",
    "    def score(self, features, y, k, metric):\n",
    "        TP = TN = FP = FN = 0\n",
    "        right_predict_number = 0\n",
    "        for i in range(features.shape[0]):\n",
    "            pred = self.predict(features[i], k, metric)\n",
    "            if y[i] == 1:\n",
    "                if pred == 1:\n",
    "                    TP += 1\n",
    "                else:\n",
    "                    FN += 1\n",
    "            else:\n",
    "                if pred == 1:\n",
    "                    FP += 1\n",
    "                else:\n",
    "                    TN += 1\n",
    "        recall = TP / (TP + FN)\n",
    "        precision = TP / (TP + FP)\n",
    "        accuracy = (TP + TN) / (TP + TN + FP + FN)\n",
    "        return {'recall': recall, 'precision': precision, 'accuracy': accuracy}"
   ]
  },
  {
   "cell_type": "code",
   "execution_count": 159,
   "id": "8de8c2fc",
   "metadata": {},
   "outputs": [],
   "source": [
    "X_train_new, X_test_new, y_train_new, y_test_new = train_test_split(\n",
    "    X_train, y_train, test_size=0.3, random_state=42, shuffle=True)\n",
    "y_train_new = np.array(y_train_new)[:1000]\n",
    "y_test_new = np.array(y_test_new)[:1000]\n",
    "X_train_new = np.array(X_train_new)[:1000]\n",
    "X_test_new = np.array(X_test_new)[:1000]"
   ]
  },
  {
   "cell_type": "code",
   "execution_count": 166,
   "id": "d26b4496",
   "metadata": {
    "scrolled": false
   },
   "outputs": [
    {
     "data": {
      "text/plain": [
       "0.543"
      ]
     },
     "execution_count": 166,
     "metadata": {},
     "output_type": "execute_result"
    },
    {
     "data": {
      "image/png": "[encoded data removed]",
      "text/plain": [
       "<Figure size 432x288 with 1 Axes>"
      ]
     },
     "metadata": {
      "needs_background": "light"
     },
     "output_type": "display_data"
    }
   ],
   "source": [
    "scores = []\n",
    "for k in range(1,20,1):\n",
    "    knn = KNeighborsClassifier(n_neighbors=k)\n",
    "    knn.fit(X_train_new, y_train_new)\n",
    "    scores.append(knn.score(X_test_new, y_test_new))\n",
    "plt.plot(scores)\n",
    "plt.xlim([1, 18])\n",
    "plt.ylim([0, 1.0])\n",
    "plt.xticks(list(range(1, 20, 1)))\n",
    "plt.grid()\n",
    "max(scores)"
   ]
  },
  {
   "cell_type": "code",
   "execution_count": 162,
   "id": "fcf00055",
   "metadata": {},
   "outputs": [
    {
     "name": "stdout",
     "output_type": "stream",
     "text": [
      "my implementation KNN: test sample:  {'recall': 0.6883365200764818, 'precision': 0.6050420168067226, 'accuracy': 0.602}\n",
      "my implementation KNN: train sample:  {'recall': 0.6125954198473282, 'precision': 0.5582608695652174, 'accuracy': 0.543}\n"
     ]
    }
   ],
   "source": [
    "knn_obj = KNN(X_train_new, y_train_new)\n",
    "print('my implementation KNN. train sample: ', knn_obj.score(X_train_new, y_train_new, 9, euclidean_norma))\n",
    "print('my implementation KNN. test sample: ', knn_obj.score(X_test_new, y_test_new, 9, euclidean_norma))"
   ]
  },
  {
   "cell_type": "markdown",
   "id": "ebf21134",
   "metadata": {},
   "source": [
    "# Наивный баейсовский классификатор"
   ]
  },
  {
   "cell_type": "code",
   "execution_count": 177,
   "id": "5ed7a772",
   "metadata": {},
   "outputs": [],
   "source": [
    "class NormalDistribution:\n",
    "    def __init__(self, mean, std):\n",
    "        self.mean = mean\n",
    "        self.std = std\n",
    "    \n",
    "    def probability_density(self, value):\n",
    "        eps = 1e-5\n",
    "        return 1 / (eps + self.std * (2 * np.pi) ** 0.5 * np.exp((value - self.mean) ** 2 / (eps + 2 * self.std ** 2)))"
   ]
  },
  {
   "cell_type": "code",
   "execution_count": 169,
   "id": "9a608435",
   "metadata": {},
   "outputs": [],
   "source": [
    "class NaiveBayes:\n",
    "    def fit(self, X, Y):\n",
    "        self.label_probabilities = {\n",
    "            0: len(Y[Y == 0]) / len(Y),\n",
    "            1: len(Y[Y == 1]) / len(Y)\n",
    "        }\n",
    "        self.conditional_probabilities = {}\n",
    "        for value in (0, 1):\n",
    "            probabilities = []\n",
    "            for column in range(X.shape[1]):\n",
    "                x = X[Y == value, column]\n",
    "                probabilities.append(NormalDistribution(x.mean(axis=0), x.std(axis=0)))\n",
    "            self.conditional_probabilities[value] = probabilities\n",
    "    \n",
    "    def predict(self, feature):\n",
    "        label_probabilities = {}\n",
    "        for value in (0, 1):\n",
    "            conditional_feature_probability = 0\n",
    "            for i in range(feature.shape[0]):\n",
    "                conditional_feature_probability += np.log(self.conditional_probabilities[value][i].probability_density(feature[i]))\n",
    "            label_probabilities[value] = np.log(self.label_probabilities[value]) + conditional_feature_probability\n",
    "        return 1 if label_probabilities[1] > label_probabilities[0] else 0\n",
    "\n",
    "    def score(self, features, y):\n",
    "        TP = TN = FP = FN = 0\n",
    "        right_predict_number = 0\n",
    "        for i in range(features.shape[0]):\n",
    "            pred = self.predict(features[i])\n",
    "            if y[i] == 1:\n",
    "                if pred == 1:\n",
    "                    TP += 1\n",
    "                else:\n",
    "                    FN += 1\n",
    "            else:\n",
    "                if pred == 1:\n",
    "                    FP += 1\n",
    "                else:\n",
    "                    TN += 1\n",
    "        recall = TP / (TP + FN)\n",
    "        precision = TP / (TP + FP)\n",
    "        accuracy = (TP + TN) / (TP + TN + FP + FN)\n",
    "        return {'recall': recall, 'precision': precision, 'accuracy': accuracy}"
   ]
  },
  {
   "cell_type": "code",
   "execution_count": 170,
   "id": "9f7b73ab",
   "metadata": {},
   "outputs": [],
   "source": [
    "X_train_new, X_test_new, y_train_new, y_test_new = train_test_split(X_train, y_train, \n",
    "                                                                            test_size=0.2, random_state=24)\n",
    "y_train_new = np.array(y_train_new)\n",
    "y_test_new = np.array(y_test_new)\n",
    "X_train_new = np.array(X_train_new)\n",
    "X_test_new = np.array(X_test_new)"
   ]
  },
  {
   "cell_type": "code",
   "execution_count": 179,
   "id": "aaed8c4c",
   "metadata": {},
   "outputs": [
    {
     "name": "stdout",
     "output_type": "stream",
     "text": [
      "sklearn NaiveBayes:  0.6502108402756351\n"
     ]
    }
   ],
   "source": [
    "sklearn_nb = naive_bayes.GaussianNB()\n",
    "sklearn_nb.fit(X_train_new, y_train_new)\n",
    "print('sklearn NaiveBayes: ', sklearn_nb.score(X_train_new, y_train_new))"
   ]
  },
  {
   "cell_type": "code",
   "execution_count": 176,
   "id": "806d779a",
   "metadata": {
    "scrolled": true
   },
   "outputs": [
    {
     "name": "stderr",
     "output_type": "stream",
     "text": [
      "<ipython-input-175-81e5919c60fc>:8: RuntimeWarning: overflow encountered in exp\n",
      "  return 1 / (eps + self.std * (2 * np.pi) ** 0.5 * np.exp((value - self.mean) ** 2 / (eps + 2 * self.std ** 2)))\n",
      "<ipython-input-169-26d004fca350>:20: RuntimeWarning: divide by zero encountered in log\n",
      "  conditional_feature_probability += np.log(self.conditional_probabilities[value][i].probability_density(feature[i]))\n"
     ]
    },
    {
     "name": "stdout",
     "output_type": "stream",
     "text": [
      "my implementation NaiveBayes: test sample:  {'recall': 0.637486054295277, 'precision': 0.6470795480282859, 'accuracy': 0.6317237478144606}\n",
      "my implementation NaiveBayes: train sample:  {'recall': 0.6346859807520587, 'precision': 0.6503660024400163, 'accuracy': 0.6338064383420755}\n"
     ]
    }
   ],
   "source": [
    "nb = NaiveBayes()\n",
    "nb.fit(X_train_new, y_train_new)\n",
    "print('my implementation NaiveBayes. train sample: ', nb.score(X_train_new, y_train_new))\n",
    "print('my implementation NaiveBayes. test sample: ', nb.score(X_test_new, y_test_new))"
   ]
  },
  {
   "cell_type": "markdown",
   "id": "26b569c9",
   "metadata": {},
   "source": [
    "# SVM"
   ]
  },
  {
   "cell_type": "code",
   "execution_count": null,
   "id": "a822a4d7",
   "metadata": {},
   "outputs": [],
   "source": [
    "class my_SVM:\n",
    "    def __init__(self, learning_rate=0.01, lambda_param=0.01, n_iters=10000):\n",
    "        self.lr = learning_rate\n",
    "        self.lambda_param = lambda_param\n",
    "        self.n_iters = n_iters\n",
    "\n",
    "    def fit(self, X, y):\n",
    "        # переименовываем лейблы в -1 и 1\n",
    "        y_ = np.where(y <= 0, -1, 1)\n",
    "        n_samples, n_features = X.shape\n",
    "\n",
    "        self.W = np.zeros(n_features)\n",
    "        self.b = 0\n",
    "\n",
    "        # процесс обучения (настройка весов и смещения)\n",
    "        for _ in range(self.n_iters):\n",
    "            for idx, x_i in enumerate(X):\n",
    "                condition = y_[idx] * ((x_i @ self.W) - self.b) >= 1\n",
    "                if condition:\n",
    "                    self.W -= self.lr * (2 * self.lambda_param * self.W)\n",
    "                else:\n",
    "                    self.W -= self.lr * (2 * self.lambda_param * self.W - np.dot(x_i,y_[idx]))\n",
    "                    self.b -= self.lr * y_[idx]\n",
    "\n",
    "    def predict(self, X):\n",
    "        res = np.dot(X, self.W) - self.b\n",
    "        # предсказываем класс в зависимости от знака\n",
    "        return np.where(res >= 0, 1, 0)"
   ]
  },
  {
   "cell_type": "markdown",
   "id": "b1b69ab9",
   "metadata": {},
   "source": [
    "# Деревья решений"
   ]
  },
  {
   "cell_type": "code",
   "execution_count": 193,
   "id": "a3a111d8",
   "metadata": {},
   "outputs": [],
   "source": [
    "class Tree:\n",
    "    class Node:\n",
    "        def __init__(self, isLeaf=False, feature_index=None, split_value=None, sons=None, value=None):\n",
    "            self.isLeaf = isLeaf\n",
    "            if not isLeaf:\n",
    "                self.feature_index = feature_index\n",
    "                self.split_value = split_value\n",
    "                self.sons = sons\n",
    "                self.left = None\n",
    "                self.right = None\n",
    "            else:\n",
    "                self.value = value\n",
    "\n",
    "    def __init__(self, max_depth, min_size):\n",
    "        self.max_depth = max_depth  # максимальная глубина деревьев\n",
    "        self.min_size = min_size  # минимальная глубина деревьев\n",
    "        \n",
    "    def split(self, XY):\n",
    "        unique_targets = list(set(row[-1] for row in XY))\n",
    "        feature_index, split_value, subtrees = None, None, None\n",
    "        min_gini_id = 100\n",
    "        \n",
    "        for i in range(XY.shape[1] - 1):\n",
    "            for row in XY:\n",
    "                s_trees = self.__get_subtrees(i, row[i], XY)\n",
    "                gini_id = self.__gini_index(s_trees, unique_targets)\n",
    "                if gini_id < min_gini_id:\n",
    "                    feature_index, split_value, subtrees = i, row[i], s_trees\n",
    "                    min_gini_id = gini_id\n",
    "                    \n",
    "        return Tree.Node(feature_index=feature_index, split_value=split_value, sons=subtrees)\n",
    "\n",
    "    def make_tree(self, XY):\n",
    "        root = self.split(XY)\n",
    "        self.recursive_split(root, 1)\n",
    "        self.root = root\n",
    "\n",
    "    def __get_subtrees(self, index, value, XY):\n",
    "        left, right = [], []\n",
    "        for row in XY:\n",
    "            if row[index] < value:\n",
    "                left.append(row)\n",
    "            else:\n",
    "                right.append(row)\n",
    "        return np.array(left), np.array(right)\n",
    "\n",
    "    def __gini_index(self, subtrees, unique_targets):\n",
    "        n_instances_in_subtrees = sum([len(subtree) for subtree in subtrees])\n",
    "        result = 0.\n",
    "        for subtree in subtrees:\n",
    "            n_instances_in_subtree = len(subtree)\n",
    "            if n_instances_in_subtree == 0:\n",
    "                continue\n",
    "            score = 0.\n",
    "            for target in unique_targets:\n",
    "                probability = [row[-1] for row in subtree].count(target) / n_instances_in_subtree\n",
    "                score += probability ** 2\n",
    "            result += (1. - score) * (n_instances_in_subtree / n_instances_in_subtrees)\n",
    "        return result\n",
    "\n",
    "    def recursive_split(self, node, depth):\n",
    "        left, right = node.sons\n",
    "        node.sons = None\n",
    "        if not left.tolist() or not right.tolist():\n",
    "            node.left = node.right = self.make_leaf(left.tolist() + right.tolist())\n",
    "            return\n",
    "        if depth >= self.max_depth:\n",
    "            node.left, node.right = self.make_leaf(left), self.make_leaf(right)\n",
    "            return\n",
    "        \n",
    "        if len(left) <= self.min_size:\n",
    "            node.left = self.make_leaf(left)\n",
    "        else:\n",
    "            node.left = self.split(left)\n",
    "            self.recursive_split(node.left, depth + 1)\n",
    "        \n",
    "        if len(right) <= self.min_size:\n",
    "            node.right = self.make_leaf(right)\n",
    "        else:\n",
    "            node.right = self.split(right)\n",
    "            self.recursive_split(node.right, depth + 1)\n",
    "\n",
    "    def make_leaf(self, subtree):\n",
    "        targets = [row[-1] for row in subtree]\n",
    "        return Tree.Node(isLeaf=True, value=max(targets, key=targets.count))\n",
    "\n",
    "class MyDecisionTreeClassifier:\n",
    "    \n",
    "    def __init__(self, max_depth=7, min_size=3):\n",
    "        self.tree = Tree(max_depth, min_size)\n",
    "\n",
    "    def fit(self, X, Y):\n",
    "        self.tree.make_tree(np.column_stack((X, Y)))\n",
    "\n",
    "    def predict(self, x):\n",
    "        return self.__predict_help(self.tree.root, x)\n",
    "\n",
    "    def __predict_help(self, node, row):\n",
    "        if row[node.feature_index] < node.split_value:\n",
    "            if not node.left.isLeaf:\n",
    "                return self.__predict_help(node.left, row)\n",
    "            else:\n",
    "                return node.left.value\n",
    "        else:\n",
    "            if not node.right.isLeaf:\n",
    "                return self.__predict_help(node.right, row)\n",
    "            else:\n",
    "                return node.right.value         \n",
    "    \n",
    "    def score(self, features, y):\n",
    "        TP = TN = FP = FN = 0\n",
    "        right_predict_number = 0\n",
    "        for i in range(features.shape[0]):\n",
    "            pred = self.predict(features[i])\n",
    "            if y[i] == 1:\n",
    "                if pred == 1:\n",
    "                    TP += 1\n",
    "                else:\n",
    "                    FN += 1\n",
    "            else:\n",
    "                if pred == 1:\n",
    "                    FP += 1\n",
    "                else:\n",
    "                    TN += 1\n",
    "        recall = TP / (TP + FN)\n",
    "        precision = TP / (TP + FP)\n",
    "        accuracy = (TP + TN) / (TP + TN + FP + FN)\n",
    "        return {'recall': recall, 'precision': precision, 'accuracy': accuracy}"
   ]
  },
  {
   "cell_type": "code",
   "execution_count": 185,
   "id": "621efcbd",
   "metadata": {},
   "outputs": [
    {
     "name": "stdout",
     "output_type": "stream",
     "text": [
      "sklearn NaiveBayes:  0.6009976344749562\n"
     ]
    }
   ],
   "source": [
    "dt = DecisionTreeClassifier()\n",
    "dt.fit(X_train_new, y_train_new)\n",
    "print('sklearn NaiveBayes: ', dt.score(X_test_new, y_test_new))"
   ]
  },
  {
   "cell_type": "code",
   "execution_count": 194,
   "id": "6296fc9a",
   "metadata": {},
   "outputs": [
    {
     "name": "stdout",
     "output_type": "stream",
     "text": [
      "my implementation DecisionTreeClassifier. test sample:  {'recall': 0.8822393822393823, 'precision': 0.8017543859649123, 'accuracy': 0.826}\n",
      "my implementation DecisionTreeClassifier. train sample:  {'recall': 0.6640471512770137, 'precision': 0.5767918088737202, 'accuracy': 0.581}\n"
     ]
    }
   ],
   "source": [
    "upper_bound = 1000\n",
    "mdt = MyDecisionTreeClassifier()\n",
    "mdt.fit(X_train_new[:upper_bound], y_train_new[:upper_bound])\n",
    "print('my implementation DecisionTreeClassifier. train sample: ', mdt.score(X_train_new[:upper_bound], y_train_new[:upper_bound]))\n",
    "print('my implementation DecisionTreeClassifier. test sample: ', mdt.score(X_test_new[:upper_bound], y_test_new[:upper_bound]))"
   ]
  },
  {
   "cell_type": "markdown",
   "id": "dcf6cb3b",
   "metadata": {},
   "source": [
    "# Случайный лес"
   ]
  },
  {
   "cell_type": "code",
   "execution_count": 195,
   "id": "30473c68",
   "metadata": {},
   "outputs": [],
   "source": [
    "class MyRandomForest:\n",
    "    def __init__(self, max_depth=7, n_classifiers=30):\n",
    "        self.max_depth = max_depth\n",
    "        self.n_classifiers = n_classifiers\n",
    "        self.classifiers = []\n",
    "        self.features_indexes = []\n",
    "        self.x, self.y = None, None\n",
    "\n",
    "    def fit(self, X, Y):\n",
    "        self.x, self.y = X, Y\n",
    "        n_select_features = int(np.sqrt(self.x.shape[1]))\n",
    "        for _ in range(self.n_classifiers):\n",
    "            x, y = resample(self.x, self.y, n_samples=len(self.y))\n",
    "            \n",
    "            seq_features = [n for n in range(x.shape[1])]\n",
    "            new_x = []\n",
    "            for _ in range(n_select_features):\n",
    "                val = random.choice(seq_features)\n",
    "                new_x.append(val)\n",
    "                seq_features.remove(val)\n",
    "            self.features_indexes.append(new_x)\n",
    "            tree = MyDecisionTreeClassifier(max_depth=self.max_depth)\n",
    "            tree.fit(x[:,np.array(new_x)], y)\n",
    "            self.classifiers.append(tree)\n",
    "\n",
    "    def predict(self, X):\n",
    "        pred = [classifier.predict(X[np.array(self.features_indexes[i])]) for i, classifier in enumerate(self.classifiers)]\n",
    "        c = Counter(pred)\n",
    "        return c.most_common(1)[0][0]\n",
    "\n",
    "    def score(self, features, y):\n",
    "        TP = TN = FP = FN = 0\n",
    "        right_predict_number = 0\n",
    "        for i in range(features.shape[0]):\n",
    "            pred = self.predict(features[i])\n",
    "            if y[i] == 1:\n",
    "                if pred == 1:\n",
    "                    TP += 1\n",
    "                else:\n",
    "                    FN += 1\n",
    "            else:\n",
    "                if pred == 1:\n",
    "                    FP += 1\n",
    "                else:\n",
    "                    TN += 1\n",
    "        recall = TP / (TP + FN)\n",
    "        precision = TP / (TP + FP)\n",
    "        accuracy = (TP + TN) / (TP + TN + FP + FN)\n",
    "        return {'recall': recall, 'precision': precision, 'accuracy': accuracy}"
   ]
  },
  {
   "cell_type": "code",
   "execution_count": 196,
   "id": "ffb419b0",
   "metadata": {},
   "outputs": [
    {
     "name": "stdout",
     "output_type": "stream",
     "text": [
      "sklearn RandomForest:  0.6395145531214645\n"
     ]
    }
   ],
   "source": [
    "dt = RandomForestClassifier(n_estimators=100)\n",
    "dt.fit(X_train_new, y_train_new)\n",
    "print('sklearn RandomForest: ', dt.score(X_test_new, y_test_new))"
   ]
  },
  {
   "cell_type": "code",
   "execution_count": 197,
   "id": "68867d5e",
   "metadata": {},
   "outputs": [
    {
     "name": "stdout",
     "output_type": "stream",
     "text": [
      "my implementation RandomForest. test sample:  {'recall': 1.0, 'precision': 0.8770226537216829, 'accuracy': 0.924}\n",
      "my implementation RandomForest. train sample:  {'recall': 0.9057377049180327, 'precision': 0.5175644028103045, 'accuracy': 0.542}\n"
     ]
    }
   ],
   "source": [
    "upper_bound = 500\n",
    "mrf = MyRandomForest(max_depth=5, n_classifiers=100)\n",
    "mrf.fit(X_train_new[:upper_bound], y_train_new[:upper_bound])\n",
    "print('my implementation RandomForest. train sample: ', mrf.score(X_train_new[:upper_bound], y_train_new[:upper_bound]))\n",
    "print('my implementation RandomForest. test sample: ', mrf.score(X_test_new[:upper_bound], y_test_new[:upper_bound]))"
   ]
  },
  {
   "cell_type": "markdown",
   "id": "f13eee82",
   "metadata": {},
   "source": [
    "# Выводы"
   ]
  },
  {
   "cell_type": "markdown",
   "id": "0db2af60",
   "metadata": {},
   "source": [
    "В работе были рассмотренно множество алгоритмов машинного обучения, для некоторых алгоритмов была сделана собственная реализация. Наилучшим методом оказалась логистическая регрессия с мешком слов, точность модели оказалась примерно равной 75%. Работа была отправлена на соревнование Kaggle и получила рейтинг 0.75522, большая часть участников соревнования также набрала рейтинг в окрестности 0.75."
   ]
  }
 ],
 "metadata": {
  "kernelspec": {
   "display_name": "Python 3",
   "language": "python",
   "name": "python3"
  },
  "language_info": {
   "codemirror_mode": {
    "name": "ipython",
    "version": 3
   },
   "file_extension": ".py",
   "mimetype": "text/x-python",
   "name": "python",
   "nbconvert_exporter": "python",
   "pygments_lexer": "ipython3",
   "version": "3.8.8"
  },
  "latex_envs": {
   "LaTeX_envs_menu_present": true,
   "autoclose": false,
   "autocomplete": true,
   "bibliofile": "biblio.bib",
   "cite_by": "apalike",
   "current_citInitial": 1,
   "eqLabelWithNumbers": true,
   "eqNumInitial": 1,
   "hotkeys": {
    "equation": "Ctrl-E",
    "itemize": "Ctrl-I"
   },
   "labels_anchors": false,
   "latex_user_defs": false,
   "report_style_numbering": false,
   "user_envs_cfg": false
  },
  "toc": {
   "base_numbering": 1,
   "nav_menu": {},
   "number_sections": true,
   "sideBar": true,
   "skip_h1_title": false,
   "title_cell": "Table of Contents",
   "title_sidebar": "Contents",
   "toc_cell": false,
   "toc_position": {},
   "toc_section_display": true,
   "toc_window_display": false
  }
 },
 "nbformat": 4,
 "nbformat_minor": 5
}
